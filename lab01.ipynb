{
  "cells": [
    {
      "cell_type": "markdown",
      "id": "7b030395-ff9d-488b-893a-3f2925d07a29",
      "metadata": {},
      "source": [
        "# BEE 4750 Lab 1: Julia and GitHub Basics\n",
        "\n",
        "**Name**:\n",
        "\n",
        "**ID**:\n",
        "\n",
        "> **Due Date**\n",
        ">\n",
        "> Wednesday, 8/28/24, 9:00pm\n",
        "\n",
        "## Setup\n",
        "\n",
        "The following code should go at the top of most Julia scripts; it will\n",
        "load the local package environment and install any needed packages. You\n",
        "will see this often and shouldn’t need to touch it."
      ]
    },
    {
      "cell_type": "code",
      "execution_count": 1,
      "id": "2",
      "metadata": {},
      "outputs": [
        {
          "name": "stderr",
          "output_type": "stream",
          "text": [
            "\u001b[32m\u001b[1m  Activating\u001b[22m\u001b[39m project at `~/labs/lab-1-lkakey`\n"
          ]
        }
      ],
      "source": [
        "import Pkg\n",
        "Pkg.activate(\".\")\n",
        "Pkg.instantiate()"
      ]
    },
    {
      "cell_type": "markdown",
      "id": "b0c0f53b-93bc-4baa-8b0e-bdb58e8ff961",
      "metadata": {},
      "source": [
        "This next cell loads packages which are required for the rest of the\n",
        "code evaluation. In this case, we only need to load the `Plots.jl`\n",
        "plotting package, but you will see others over the course of the\n",
        "semester (and can add more if desired; just make sure that you’ve [added\n",
        "the new packages to the\n",
        "environment](https://viveks.me/environmental-systems-analysis/tutorials/julia-basics.html#package-management)).\n",
        "Standard Julia practice is to load all of the needed packages at the top\n",
        "of the file.\n",
        "\n",
        "> **Warning**\n",
        ">\n",
        "> Loading packages can take a while, especially the first time! Julia\n",
        "> tries to precompile all of the packages you’re using so repeat use is\n",
        "> faster, but this can be quite slow at first."
      ]
    },
    {
      "cell_type": "code",
      "execution_count": 2,
      "id": "4",
      "metadata": {},
      "outputs": [],
      "source": [
        "using Plots"
      ]
    },
    {
      "cell_type": "markdown",
      "id": "6d2bc421-d992-4864-a390-fd6d7820f6c0",
      "metadata": {},
      "source": [
        "## Introduction\n",
        "\n",
        "### Julia\n",
        "\n",
        "Julia is an up-and-coming language, originally developed for scientific\n",
        "programming. While learning a new programming language always has its\n",
        "hiccups, the good news is that if you’ve programmed in a high-level\n",
        "language such as Python or MATLAB, most Julia concepts should look\n",
        "familiar.\n",
        "\n",
        "If you have not successfully set up Julia, follow the instructions in\n",
        "[Tools\n",
        "Setup](https://viveks.me/environmental-systems-analysis/setup.html)\n",
        "and/or ask for help.\n",
        "\n",
        "You can use other editors for this course, but our recommendation is\n",
        "[Visual Studio Code](https://code.visualstudio.com/) with the [Julia\n",
        "extension](https://marketplace.visualstudio.com/items?itemName=julialang.language-julia),\n",
        "which will make life a *lot* simpler! You should have set this up by\n",
        "following the [Tools\n",
        "Setup](https://viveks.me/environmental-systems-analysis/setup.html)\n",
        "instructions, but if not, do so now and/or ask for help.\n",
        "\n",
        "### Jupyter Notebooks\n",
        "\n",
        "Jupyter notebooks integrate text and equations in Markdown with Julia\n",
        "(or Python, or R) code. To do this, Jupyter notebooks consist of two\n",
        "types of “cells”: code cells and Markdown (text) cells.\n",
        "\n",
        "Click once on this section of text. A box will appear around this text\n",
        "(and some areas above/below it) - all of that is within this cell.\n",
        "\n",
        "Markdown is a text markup framework for formatting language that makes\n",
        "things look pretty when viewed across different platforms: web browsers,\n",
        "notebooks, and so forth. Text written in Markdown can also include\n",
        "hyperlinks, LaTeX equations, section headers, and images, among other\n",
        "features (most of [the course\n",
        "website](https://viveks.me/climate-risk-analysis) and the lecture notes\n",
        "were all written in Markdown!). [Here is a basic Markdown cheat\n",
        "sheet](https://www.markdownguide.org/cheat-sheet/).\n",
        "\n",
        "What you are looking at right now is the formatted text after the\n",
        "Markdown is processed. To see the raw Markdown, do one of:\n",
        "\n",
        "-   press `Enter` while that cell is selected, or\n",
        "-   double-click on that cell.\n",
        "\n",
        "------------------------------------------------------------------------\n",
        "\n",
        "A couple of the features you will see in this Markdown cell:\n",
        "\n",
        "-   The `---` command creates a horizontal line. This is also nice for\n",
        "    separating sections.\n",
        "-   Backticks (`` `...` ``) can be used to format and highlight code,\n",
        "    keystrokes, etc.\n",
        "-   The `#` sign is used to create a new section header; two `#` signs\n",
        "    (`##`) is used to create a new subsection header; `###` creates a\n",
        "    subsubsection, and so on.\n",
        "-   You can create a bulleted list by using the asterisk `*` or a dash\n",
        "    `-` and a space.\n",
        "-   You can create regular text by just typing as usual.\n",
        "-   You can create **bold-faced text** by wrapping it with two asterisks\n",
        "    on both sides.\n",
        "-   You can create *italicized text* by wrapping it with a single\n",
        "    asterisk on both sides.\n",
        "-   To create a new paragraph, you must include a blank line between the\n",
        "    old and new paragraphs.\n",
        "\n",
        "At this point you might be wondering how to turn this cell back into the\n",
        "fully formatted Markdown text instead of the raw Markdown you’re\n",
        "probably still looking at. You have a couple of options, depending on\n",
        "your platform, but the most consistent is to type `Shift + Enter` to\n",
        "**execute** the cell (this is also how to run code, but more on that\n",
        "later).\n",
        "\n",
        "Additionally, you will frequently need to create new cells in your\n",
        "Jupyter notebooks. How you do this will depend on how you interact with\n",
        "the notebook, but try to figure this out now.\n",
        "\n",
        "One tip is to think carefully about what bits of code should be in the\n",
        "same cell, as you typically only see output from the last command in a\n",
        "cell. For example, compare the following:"
      ]
    },
    {
      "cell_type": "code",
      "execution_count": null,
      "id": "6",
      "metadata": {},
      "outputs": [
        {
          "data": {
            "text/plain": [
              "-0.9589242746631385"
            ]
          },
          "metadata": {},
          "output_type": "display_data"
        }
      ],
      "source": [
        "x = 5\n",
        "sin(x)"
      ]
    },
    {
      "cell_type": "markdown",
      "id": "0b56a2f1-81e8-4426-b62a-95cfc3933b92",
      "metadata": {},
      "source": [
        "with"
      ]
    },
    {
      "cell_type": "code",
      "execution_count": null,
      "id": "8",
      "metadata": {},
      "outputs": [
        {
          "data": {
            "text/plain": [
              "5"
            ]
          },
          "metadata": {},
          "output_type": "display_data"
        }
      ],
      "source": [
        "x = 5"
      ]
    },
    {
      "cell_type": "code",
      "execution_count": null,
      "id": "10",
      "metadata": {},
      "outputs": [
        {
          "data": {
            "text/plain": [
              "-0.9589242746631385"
            ]
          },
          "metadata": {},
          "output_type": "display_data"
        }
      ],
      "source": [
        "sin(x)"
      ]
    },
    {
      "cell_type": "markdown",
      "id": "474d541d-93e6-47e1-874f-80abd6c9d7cc",
      "metadata": {},
      "source": [
        "In Julia, you can also suppress the output of a command with a\n",
        "semi-colon:"
      ]
    },
    {
      "cell_type": "code",
      "execution_count": null,
      "id": "12",
      "metadata": {},
      "outputs": [],
      "source": [
        "sin(x);"
      ]
    },
    {
      "cell_type": "markdown",
      "id": "e5950d08-d04e-4fc7-bed8-33e0ee9a1909",
      "metadata": {},
      "source": [
        "which can help if you want to split some code out for clarity or to\n",
        "insert some text prior to it, but don’t want to clutter the notebook\n",
        "with its output.\n",
        "\n",
        "For code cells, to execute the commands within the cell, we also press\n",
        "`Shift+Enter`.\n",
        "\n",
        "Finally, **make sure that you evaluate all of the code cells in order\n",
        "before submitting**. One bad outcome with notebooks occurs when cells\n",
        "are evaluated out of order, so fixed bugs and edits in previous cells do\n",
        "not get a chance to propagate down. You can do this with the `Run All`\n",
        "command in whichever interface you’re using to edit your notebook.\n",
        "\n",
        "### Julia Basics\n",
        "\n",
        "There are many tutorials and references for Julia, including a [basics\n",
        "overview on the class website](../tutorials/julia-basics.html). Please\n",
        "feel free to reference these as you work through any part of the course.\n",
        "\n",
        "### Formatting Math\n",
        "\n",
        "It will often be helpful to include nicely-formatted mathematics in a\n",
        "notebook. Markdown accomodates this using LaTeX syntax. A LaTeX\n",
        "cheatsheet is available on the class website, and many other guides\n",
        "exist online.\n",
        "\n",
        "Below is an example of a formatted equation: $$x = 5.$$\n",
        "\n",
        "### Looking For Help\n",
        "\n",
        "There is no shame in using Google, or other resources, for help when\n",
        "programming. There are many, many times when you can’t quite get the\n",
        "syntax to work, can’t quite figure out the right package or command to\n",
        "use, or are feeling too lazy or overwhelmed (I’m not judging either of\n",
        "those!) to dig through the documentation. Some good resources include:\n",
        "\n",
        "-   [Stack Overflow](https://stackoverflow.com/) is a treasure trove of\n",
        "    answers;\n",
        "-   The [official Julia forum](https://discourse.julialang.org/) and the\n",
        "    [Julia Subreddit](https://www.reddit.com/r/Julia/) are also very\n",
        "    useful.\n",
        "\n",
        "You are also highly encouraged to post on [Ed\n",
        "Discussion](https://us.edstem.org), though getting a response might be\n",
        "less immediate. Just be mindful that to get good answers, [you have to\n",
        "help people help you](https://stackoverflow.com/help/how-to-ask), and\n",
        "**make sure to give credit to any resources that were helpful**!\n",
        "\n",
        "## Exercises (3 points)\n",
        "\n",
        "Use your understanding of Julia syntax and the GitHub workflow to\n",
        "complete the following (hopefully short) exercises. Convert your\n",
        "completed lab assignment to a PDF and submit it to the Gradescope\n",
        "Assignment “Lab 1”.\n",
        "\n",
        "**Remember to**:\n",
        "\n",
        "-   Include a (succint but clear) writeup of the core idea underlying\n",
        "    your code, through some combination of equations, text, and\n",
        "    algorithms. As you are not required to submit your code, we will not\n",
        "    be looking at it in detail, and instead will rely on those writeups\n",
        "    to assess whether your approach is correct.\n",
        "-   If using the notebook, evaluate all of your code cells, in order\n",
        "    (using a `Run All` command). This will make sure all output is\n",
        "    visible and that the code cells were evaluated in the correct order.\n",
        "-   Tag each of the problems when you submit to Gradescope; a 10%\n",
        "    penalty will be deducted if this is not done.\n",
        "\n",
        "### Computing a Dot Product\n",
        "\n",
        "Given two numeric arrays `x` and `y`, write a function to compute their\n",
        "dot product if they have equal length, and return an error if not (this\n",
        "is useful for debugging!). Use the following code as a starting point."
      ]
    },
    {
      "cell_type": "code",
      "execution_count": 3,
      "id": "14",
      "metadata": {},
      "outputs": [
        {
          "data": {
            "text/plain": [
              "dot_product (generic function with 1 method)"
            ]
          },
          "metadata": {},
          "output_type": "display_data"
        }
      ],
      "source": [
        "function dot_product(x, y)\n",
        "    if length(x) == length(y)\n",
        "        return sum(x .* y)\n",
        "    else\n",
        "        throw(DimensionMismatch(\"length of x not equal to length of y\"))\n",
        "    end\n",
        "end"
      ]
    },
    {
      "cell_type": "markdown",
      "id": "e0ce47a6-a5e8-4cd8-a776-5b04adfa6330",
      "metadata": {},
      "source": [
        "Here are some tests to make sure your code works as intended. Tests like\n",
        "these are useful to make sure everything works as intended. One reason\n",
        "to split your code up into functions is that it makes it straightforward\n",
        "to write tests to make sure each piece of your code works, which makes\n",
        "it easier to identify where errors are occuring."
      ]
    },
    {
      "cell_type": "code",
      "execution_count": 4,
      "id": "16",
      "metadata": {},
      "outputs": [
        {
          "data": {
            "text/plain": [
              "32"
            ]
          },
          "metadata": {},
          "output_type": "display_data"
        }
      ],
      "source": [
        "dot_product([1 2 3], [4 5 6])"
      ]
    },
    {
      "cell_type": "markdown",
      "id": "37f85171-25e8-4513-b57c-af25ff4378e7",
      "metadata": {},
      "source": [
        "If you know the value you should get, you can write a more formal test\n",
        "using the `@assert` macro, which is a good way to “automate” checking\n",
        "(since you get an obvious error if the code doesn’t work as desired):"
      ]
    },
    {
      "cell_type": "code",
      "execution_count": 5,
      "id": "18",
      "metadata": {},
      "outputs": [],
      "source": [
        "@assert dot_product([1 2 3], [4 5 6]) == 32"
      ]
    },
    {
      "cell_type": "markdown",
      "id": "65ccdcd8-449e-4f0c-8f4e-7953ea267f8d",
      "metadata": {},
      "source": [
        "Let’s also make sure we get an error when the dimensions of the two\n",
        "vectors don’t match:"
      ]
    },
    {
      "cell_type": "code",
      "execution_count": 6,
      "id": "20",
      "metadata": {},
      "outputs": [
        {
          "ename": "DimensionMismatch",
          "evalue": "DimensionMismatch: length of x not equal to length of y",
          "output_type": "error",
          "traceback": [
            "DimensionMismatch: length of x not equal to length of y\n",
            "\n",
            "Stacktrace:\n",
            " [1] dot_product(x::Matrix{Int64}, y::Matrix{Int64})\n",
            "   @ Main ~/labs/lab-1-lkakey/jl_notebook_cell_df34fa98e69747e1a8f8a730347b8e2f_X15sZmlsZQ==.jl:5\n",
            " [2] top-level scope\n",
            "   @ ~/labs/lab-1-lkakey/jl_notebook_cell_df34fa98e69747e1a8f8a730347b8e2f_X24sZmlsZQ==.jl:1"
          ]
        }
      ],
      "source": [
        "dot_product([1 2 3], [4 5])"
      ]
    },
    {
      "cell_type": "markdown",
      "id": "8c069a05-159a-43b4-aa3f-d1fec9a2f727",
      "metadata": {},
      "source": [
        "### Making a Plot\n",
        "\n",
        "Write a function to compute the square of an integer `x`. Evaluate this\n",
        "function for integers between $x=-5$ and $x=5$ and make a plot of the\n",
        "squared values (you can find a quick guide to making various types of\n",
        "plots\n",
        "[here](https://viveks.me/environmental-systems-analysis/tutorials/julia-plots.html)).\n",
        "Make sure to label your axes."
      ]
    },
    {
      "cell_type": "code",
      "execution_count": 7,
      "id": "22",
      "metadata": {},
      "outputs": [
        {
          "data": {
            "image/png": "[encoded data removed]",
            "image/svg+xml": [
              "<?xml version=\"1.0\" encoding=\"utf-8\"?>\n",
              "<svg xmlns=\"http://www.w3.org/2000/svg\" xmlns:xlink=\"http://www.w3.org/1999/xlink\" width=\"600\" height=\"400\" viewBox=\"0 0 2400 1600\">\n",
              "<defs>\n",
              "  <clipPath id=\"clip800\">\n",
              "    <rect x=\"0\" y=\"0\" width=\"2400\" height=\"1600\"/>\n",
              "  </clipPath>\n",
              "</defs>\n",
              "<path clip-path=\"url(#clip800)\" d=\"M0 1600 L2400 1600 L2400 8.88178e-14 L0 8.88178e-14  Z\" fill=\"#ffffff\" fill-rule=\"evenodd\" fill-opacity=\"1\"/>\n",
              "<defs>\n",
              "  <clipPath id=\"clip801\">\n",
              "    <rect x=\"480\" y=\"0\" width=\"1681\" height=\"1600\"/>\n",
              "  </clipPath>\n",
              "</defs>\n",
              "<path clip-path=\"url(#clip800)\" d=\"M140.696 1486.45 L2352.76 1486.45 L2352.76 47.2441 L140.696 47.2441  Z\" fill=\"#ffffff\" fill-rule=\"evenodd\" fill-opacity=\"1\"/>\n",
              "<defs>\n",
              "  <clipPath id=\"clip802\">\n",
              "    <rect x=\"140\" y=\"47\" width=\"2213\" height=\"1440\"/>\n",
              "  </clipPath>\n",
              "</defs>\n",
              "<polyline clip-path=\"url(#clip802)\" style=\"stroke:#000000; stroke-linecap:round; stroke-linejoin:round; stroke-width:2; stroke-opacity:0.1; fill:none\" points=\"411.986,1486.45 411.986,47.2441 \"/>\n",
              "<polyline clip-path=\"url(#clip802)\" style=\"stroke:#000000; stroke-linecap:round; stroke-linejoin:round; stroke-width:2; stroke-opacity:0.1; fill:none\" points=\"829.356,1486.45 829.356,47.2441 \"/>\n",
              "<polyline clip-path=\"url(#clip802)\" style=\"stroke:#000000; stroke-linecap:round; stroke-linejoin:round; stroke-width:2; stroke-opacity:0.1; fill:none\" points=\"1246.73,1486.45 1246.73,47.2441 \"/>\n",
              "<polyline clip-path=\"url(#clip802)\" style=\"stroke:#000000; stroke-linecap:round; stroke-linejoin:round; stroke-width:2; stroke-opacity:0.1; fill:none\" points=\"1664.1,1486.45 1664.1,47.2441 \"/>\n",
              "<polyline clip-path=\"url(#clip802)\" style=\"stroke:#000000; stroke-linecap:round; stroke-linejoin:round; stroke-width:2; stroke-opacity:0.1; fill:none\" points=\"2081.47,1486.45 2081.47,47.2441 \"/>\n",
              "<polyline clip-path=\"url(#clip800)\" style=\"stroke:#000000; stroke-linecap:round; stroke-linejoin:round; stroke-width:4; stroke-opacity:1; fill:none\" points=\"140.696,1486.45 2352.76,1486.45 \"/>\n",
              "<polyline clip-path=\"url(#clip800)\" style=\"stroke:#000000; stroke-linecap:round; stroke-linejoin:round; stroke-width:4; stroke-opacity:1; fill:none\" points=\"411.986,1486.45 411.986,1467.55 \"/>\n",
              "<polyline clip-path=\"url(#clip800)\" style=\"stroke:#000000; stroke-linecap:round; stroke-linejoin:round; stroke-width:4; stroke-opacity:1; fill:none\" points=\"829.356,1486.45 829.356,1467.55 \"/>\n",
              "<polyline clip-path=\"url(#clip800)\" style=\"stroke:#000000; stroke-linecap:round; stroke-linejoin:round; stroke-width:4; stroke-opacity:1; fill:none\" points=\"1246.73,1486.45 1246.73,1467.55 \"/>\n",
              "<polyline clip-path=\"url(#clip800)\" style=\"stroke:#000000; stroke-linecap:round; stroke-linejoin:round; stroke-width:4; stroke-opacity:1; fill:none\" points=\"1664.1,1486.45 1664.1,1467.55 \"/>\n",
              "<polyline clip-path=\"url(#clip800)\" style=\"stroke:#000000; stroke-linecap:round; stroke-linejoin:round; stroke-width:4; stroke-opacity:1; fill:none\" points=\"2081.47,1486.45 2081.47,1467.55 \"/>\n",
              "<path clip-path=\"url(#clip800)\" d=\"M380.887 1532.02 L410.562 1532.02 L410.562 1535.95 L380.887 1535.95 L380.887 1532.02 Z\" fill=\"#000000\" fill-rule=\"nonzero\" fill-opacity=\"1\" /><path clip-path=\"url(#clip800)\" d=\"M433.502 1518.36 L421.697 1536.81 L433.502 1536.81 L433.502 1518.36 M432.275 1514.29 L438.155 1514.29 L438.155 1536.81 L443.085 1536.81 L443.085 1540.7 L438.155 1540.7 L438.155 1548.85 L433.502 1548.85 L433.502 1540.7 L417.9 1540.7 L417.9 1536.19 L432.275 1514.29 Z\" fill=\"#000000\" fill-rule=\"nonzero\" fill-opacity=\"1\" /><path clip-path=\"url(#clip800)\" d=\"M799.298 1532.02 L828.974 1532.02 L828.974 1535.95 L799.298 1535.95 L799.298 1532.02 Z\" fill=\"#000000\" fill-rule=\"nonzero\" fill-opacity=\"1\" /><path clip-path=\"url(#clip800)\" d=\"M843.094 1544.91 L859.414 1544.91 L859.414 1548.85 L837.469 1548.85 L837.469 1544.91 Q840.131 1542.16 844.715 1537.53 Q849.321 1532.88 850.502 1531.53 Q852.747 1529.01 853.627 1527.27 Q854.529 1525.51 854.529 1523.82 Q854.529 1521.07 852.585 1519.33 Q850.664 1517.6 847.562 1517.6 Q845.363 1517.6 842.909 1518.36 Q840.478 1519.13 837.701 1520.68 L837.701 1515.95 Q840.525 1514.82 842.978 1514.24 Q845.432 1513.66 847.469 1513.66 Q852.84 1513.66 856.034 1516.35 Q859.228 1519.03 859.228 1523.52 Q859.228 1525.65 858.418 1527.57 Q857.631 1529.47 855.525 1532.07 Q854.946 1532.74 851.844 1535.95 Q848.742 1539.15 843.094 1544.91 Z\" fill=\"#000000\" fill-rule=\"nonzero\" fill-opacity=\"1\" /><path clip-path=\"url(#clip800)\" d=\"M1246.73 1517.37 Q1243.11 1517.37 1241.29 1520.93 Q1239.48 1524.47 1239.48 1531.6 Q1239.48 1538.71 1241.29 1542.27 Q1243.11 1545.82 1246.73 1545.82 Q1250.36 1545.82 1252.17 1542.27 Q1253.99 1538.71 1253.99 1531.6 Q1253.99 1524.47 1252.17 1520.93 Q1250.36 1517.37 1246.73 1517.37 M1246.73 1513.66 Q1252.54 1513.66 1255.59 1518.27 Q1258.67 1522.85 1258.67 1531.6 Q1258.67 1540.33 1255.59 1544.94 Q1252.54 1549.52 1246.73 1549.52 Q1240.92 1549.52 1237.84 1544.94 Q1234.78 1540.33 1234.78 1531.6 Q1234.78 1522.85 1237.84 1518.27 Q1240.92 1513.66 1246.73 1513.66 Z\" fill=\"#000000\" fill-rule=\"nonzero\" fill-opacity=\"1\" /><path clip-path=\"url(#clip800)\" d=\"M1658.75 1544.91 L1675.07 1544.91 L1675.07 1548.85 L1653.12 1548.85 L1653.12 1544.91 Q1655.79 1542.16 1660.37 1537.53 Q1664.98 1532.88 1666.16 1531.53 Q1668.4 1529.01 1669.28 1527.27 Q1670.18 1525.51 1670.18 1523.82 Q1670.18 1521.07 1668.24 1519.33 Q1666.32 1517.6 1663.22 1517.6 Q1661.02 1517.6 1658.56 1518.36 Q1656.13 1519.13 1653.35 1520.68 L1653.35 1515.95 Q1656.18 1514.82 1658.63 1514.24 Q1661.09 1513.66 1663.12 1513.66 Q1668.49 1513.66 1671.69 1516.35 Q1674.88 1519.03 1674.88 1523.52 Q1674.88 1525.65 1674.07 1527.57 Q1673.29 1529.47 1671.18 1532.07 Q1670.6 1532.74 1667.5 1535.95 Q1664.4 1539.15 1658.75 1544.91 Z\" fill=\"#000000\" fill-rule=\"nonzero\" fill-opacity=\"1\" /><path clip-path=\"url(#clip800)\" d=\"M2084.47 1518.36 L2072.67 1536.81 L2084.47 1536.81 L2084.47 1518.36 M2083.25 1514.29 L2089.13 1514.29 L2089.13 1536.81 L2094.06 1536.81 L2094.06 1540.7 L2089.13 1540.7 L2089.13 1548.85 L2084.47 1548.85 L2084.47 1540.7 L2068.87 1540.7 L2068.87 1536.19 L2083.25 1514.29 Z\" fill=\"#000000\" fill-rule=\"nonzero\" fill-opacity=\"1\" /><polyline clip-path=\"url(#clip802)\" style=\"stroke:#000000; stroke-linecap:round; stroke-linejoin:round; stroke-width:2; stroke-opacity:0.1; fill:none\" points=\"140.696,1445.72 2352.76,1445.72 \"/>\n",
              "<polyline clip-path=\"url(#clip802)\" style=\"stroke:#000000; stroke-linecap:round; stroke-linejoin:round; stroke-width:2; stroke-opacity:0.1; fill:none\" points=\"140.696,1174.17 2352.76,1174.17 \"/>\n",
              "<polyline clip-path=\"url(#clip802)\" style=\"stroke:#000000; stroke-linecap:round; stroke-linejoin:round; stroke-width:2; stroke-opacity:0.1; fill:none\" points=\"140.696,902.62 2352.76,902.62 \"/>\n",
              "<polyline clip-path=\"url(#clip802)\" style=\"stroke:#000000; stroke-linecap:round; stroke-linejoin:round; stroke-width:2; stroke-opacity:0.1; fill:none\" points=\"140.696,631.072 2352.76,631.072 \"/>\n",
              "<polyline clip-path=\"url(#clip802)\" style=\"stroke:#000000; stroke-linecap:round; stroke-linejoin:round; stroke-width:2; stroke-opacity:0.1; fill:none\" points=\"140.696,359.524 2352.76,359.524 \"/>\n",
              "<polyline clip-path=\"url(#clip802)\" style=\"stroke:#000000; stroke-linecap:round; stroke-linejoin:round; stroke-width:2; stroke-opacity:0.1; fill:none\" points=\"140.696,87.9763 2352.76,87.9763 \"/>\n",
              "<polyline clip-path=\"url(#clip800)\" style=\"stroke:#000000; stroke-linecap:round; stroke-linejoin:round; stroke-width:4; stroke-opacity:1; fill:none\" points=\"140.696,1486.45 140.696,47.2441 \"/>\n",
              "<polyline clip-path=\"url(#clip800)\" style=\"stroke:#000000; stroke-linecap:round; stroke-linejoin:round; stroke-width:4; stroke-opacity:1; fill:none\" points=\"140.696,1445.72 159.593,1445.72 \"/>\n",
              "<polyline clip-path=\"url(#clip800)\" style=\"stroke:#000000; stroke-linecap:round; stroke-linejoin:round; stroke-width:4; stroke-opacity:1; fill:none\" points=\"140.696,1174.17 159.593,1174.17 \"/>\n",
              "<polyline clip-path=\"url(#clip800)\" style=\"stroke:#000000; stroke-linecap:round; stroke-linejoin:round; stroke-width:4; stroke-opacity:1; fill:none\" points=\"140.696,902.62 159.593,902.62 \"/>\n",
              "<polyline clip-path=\"url(#clip800)\" style=\"stroke:#000000; stroke-linecap:round; stroke-linejoin:round; stroke-width:4; stroke-opacity:1; fill:none\" points=\"140.696,631.072 159.593,631.072 \"/>\n",
              "<polyline clip-path=\"url(#clip800)\" style=\"stroke:#000000; stroke-linecap:round; stroke-linejoin:round; stroke-width:4; stroke-opacity:1; fill:none\" points=\"140.696,359.524 159.593,359.524 \"/>\n",
              "<polyline clip-path=\"url(#clip800)\" style=\"stroke:#000000; stroke-linecap:round; stroke-linejoin:round; stroke-width:4; stroke-opacity:1; fill:none\" points=\"140.696,87.9763 159.593,87.9763 \"/>\n",
              "<path clip-path=\"url(#clip800)\" d=\"M92.7512 1431.51 Q89.1401 1431.51 87.3114 1435.08 Q85.5058 1438.62 85.5058 1445.75 Q85.5058 1452.86 87.3114 1456.42 Q89.1401 1459.96 92.7512 1459.96 Q96.3854 1459.96 98.1909 1456.42 Q100.02 1452.86 100.02 1445.75 Q100.02 1438.62 98.1909 1435.08 Q96.3854 1431.51 92.7512 1431.51 M92.7512 1427.81 Q98.5613 1427.81 101.617 1432.42 Q104.696 1437 104.696 1445.75 Q104.696 1454.48 101.617 1459.08 Q98.5613 1463.67 92.7512 1463.67 Q86.941 1463.67 83.8623 1459.08 Q80.8068 1454.48 80.8068 1445.75 Q80.8068 1437 83.8623 1432.42 Q86.941 1427.81 92.7512 1427.81 Z\" fill=\"#000000\" fill-rule=\"nonzero\" fill-opacity=\"1\" /><path clip-path=\"url(#clip800)\" d=\"M83.7929 1156.89 L102.149 1156.89 L102.149 1160.82 L88.0753 1160.82 L88.0753 1169.3 Q89.0938 1168.95 90.1123 1168.79 Q91.1308 1168.6 92.1493 1168.6 Q97.9363 1168.6 101.316 1171.77 Q104.696 1174.94 104.696 1180.36 Q104.696 1185.94 101.223 1189.04 Q97.7511 1192.12 91.4317 1192.12 Q89.2558 1192.12 86.9873 1191.75 Q84.7419 1191.38 82.3346 1190.64 L82.3346 1185.94 Q84.4179 1187.07 86.6401 1187.63 Q88.8623 1188.18 91.3391 1188.18 Q95.3437 1188.18 97.6817 1186.08 Q100.02 1183.97 100.02 1180.36 Q100.02 1176.75 97.6817 1174.64 Q95.3437 1172.54 91.3391 1172.54 Q89.4641 1172.54 87.5892 1172.95 Q85.7373 1173.37 83.7929 1174.25 L83.7929 1156.89 Z\" fill=\"#000000\" fill-rule=\"nonzero\" fill-opacity=\"1\" /><path clip-path=\"url(#clip800)\" d=\"M53.3995 915.965 L61.0384 915.965 L61.0384 889.599 L52.7282 891.266 L52.7282 887.007 L60.9921 885.34 L65.668 885.34 L65.668 915.965 L73.3068 915.965 L73.3068 919.9 L53.3995 919.9 L53.3995 915.965 Z\" fill=\"#000000\" fill-rule=\"nonzero\" fill-opacity=\"1\" /><path clip-path=\"url(#clip800)\" d=\"M92.7512 888.419 Q89.1401 888.419 87.3114 891.983 Q85.5058 895.525 85.5058 902.655 Q85.5058 909.761 87.3114 913.326 Q89.1401 916.868 92.7512 916.868 Q96.3854 916.868 98.1909 913.326 Q100.02 909.761 100.02 902.655 Q100.02 895.525 98.1909 891.983 Q96.3854 888.419 92.7512 888.419 M92.7512 884.715 Q98.5613 884.715 101.617 889.321 Q104.696 893.905 104.696 902.655 Q104.696 911.381 101.617 915.988 Q98.5613 920.571 92.7512 920.571 Q86.941 920.571 83.8623 915.988 Q80.8068 911.381 80.8068 902.655 Q80.8068 893.905 83.8623 889.321 Q86.941 884.715 92.7512 884.715 Z\" fill=\"#000000\" fill-rule=\"nonzero\" fill-opacity=\"1\" /><path clip-path=\"url(#clip800)\" d=\"M54.3949 644.417 L62.0337 644.417 L62.0337 618.051 L53.7236 619.718 L53.7236 615.459 L61.9874 613.792 L66.6633 613.792 L66.6633 644.417 L74.3022 644.417 L74.3022 648.352 L54.3949 648.352 L54.3949 644.417 Z\" fill=\"#000000\" fill-rule=\"nonzero\" fill-opacity=\"1\" /><path clip-path=\"url(#clip800)\" d=\"M83.7929 613.792 L102.149 613.792 L102.149 617.727 L88.0753 617.727 L88.0753 626.199 Q89.0938 625.852 90.1123 625.69 Q91.1308 625.505 92.1493 625.505 Q97.9363 625.505 101.316 628.676 Q104.696 631.848 104.696 637.264 Q104.696 642.843 101.223 645.945 Q97.7511 649.023 91.4317 649.023 Q89.2558 649.023 86.9873 648.653 Q84.7419 648.283 82.3346 647.542 L82.3346 642.843 Q84.4179 643.977 86.6401 644.533 Q88.8623 645.088 91.3391 645.088 Q95.3437 645.088 97.6817 642.982 Q100.02 640.875 100.02 637.264 Q100.02 633.653 97.6817 631.547 Q95.3437 629.44 91.3391 629.44 Q89.4641 629.44 87.5892 629.857 Q85.7373 630.273 83.7929 631.153 L83.7929 613.792 Z\" fill=\"#000000\" fill-rule=\"nonzero\" fill-opacity=\"1\" /><path clip-path=\"url(#clip800)\" d=\"M56.6171 372.869 L72.9365 372.869 L72.9365 376.804 L50.9921 376.804 L50.9921 372.869 Q53.6541 370.114 58.2375 365.485 Q62.8439 360.832 64.0245 359.489 Q66.2698 356.966 67.1494 355.23 Q68.0522 353.471 68.0522 351.781 Q68.0522 349.027 66.1078 347.29 Q64.1865 345.554 61.0847 345.554 Q58.8856 345.554 56.4319 346.318 Q54.0014 347.082 51.2236 348.633 L51.2236 343.911 Q54.0477 342.777 56.5014 342.198 Q58.955 341.619 60.9921 341.619 Q66.3624 341.619 69.5568 344.304 Q72.7513 346.99 72.7513 351.48 Q72.7513 353.61 71.9411 355.531 Q71.1541 357.429 69.0476 360.022 Q68.4689 360.693 65.367 363.911 Q62.2652 367.105 56.6171 372.869 Z\" fill=\"#000000\" fill-rule=\"nonzero\" fill-opacity=\"1\" /><path clip-path=\"url(#clip800)\" d=\"M92.7512 345.323 Q89.1401 345.323 87.3114 348.888 Q85.5058 352.429 85.5058 359.559 Q85.5058 366.665 87.3114 370.23 Q89.1401 373.772 92.7512 373.772 Q96.3854 373.772 98.1909 370.23 Q100.02 366.665 100.02 359.559 Q100.02 352.429 98.1909 348.888 Q96.3854 345.323 92.7512 345.323 M92.7512 341.619 Q98.5613 341.619 101.617 346.226 Q104.696 350.809 104.696 359.559 Q104.696 368.286 101.617 372.892 Q98.5613 377.475 92.7512 377.475 Q86.941 377.475 83.8623 372.892 Q80.8068 368.286 80.8068 359.559 Q80.8068 350.809 83.8623 346.226 Q86.941 341.619 92.7512 341.619 Z\" fill=\"#000000\" fill-rule=\"nonzero\" fill-opacity=\"1\" /><path clip-path=\"url(#clip800)\" d=\"M57.6125 101.321 L73.9318 101.321 L73.9318 105.256 L51.9875 105.256 L51.9875 101.321 Q54.6495 98.5665 59.2328 93.9369 Q63.8393 89.2841 65.0198 87.9416 Q67.2652 85.4184 68.1448 83.6823 Q69.0476 81.9231 69.0476 80.2333 Q69.0476 77.4786 67.1032 75.7425 Q65.1819 74.0064 62.08 74.0064 Q59.881 74.0064 57.4273 74.7703 Q54.9967 75.5342 52.219 77.0851 L52.219 72.3629 Q55.043 71.2287 57.4967 70.65 Q59.9504 70.0713 61.9874 70.0713 Q67.3578 70.0713 70.5522 72.7565 Q73.7466 75.4416 73.7466 79.9323 Q73.7466 82.062 72.9365 83.9832 Q72.1494 85.8814 70.0429 88.474 Q69.4642 89.1453 66.3624 92.3628 Q63.2606 95.5573 57.6125 101.321 Z\" fill=\"#000000\" fill-rule=\"nonzero\" fill-opacity=\"1\" /><path clip-path=\"url(#clip800)\" d=\"M83.7929 70.6963 L102.149 70.6963 L102.149 74.6314 L88.0753 74.6314 L88.0753 83.1036 Q89.0938 82.7564 90.1123 82.5944 Q91.1308 82.4092 92.1493 82.4092 Q97.9363 82.4092 101.316 85.5805 Q104.696 88.7517 104.696 94.1684 Q104.696 99.747 101.223 102.849 Q97.7511 105.928 91.4317 105.928 Q89.2558 105.928 86.9873 105.557 Q84.7419 105.187 82.3346 104.446 L82.3346 99.747 Q84.4179 100.881 86.6401 101.437 Q88.8623 101.992 91.3391 101.992 Q95.3437 101.992 97.6817 99.8859 Q100.02 97.7795 100.02 94.1684 Q100.02 90.5573 97.6817 88.4508 Q95.3437 86.3443 91.3391 86.3443 Q89.4641 86.3443 87.5892 86.761 Q85.7373 87.1777 83.7929 88.0573 L83.7929 70.6963 Z\" fill=\"#000000\" fill-rule=\"nonzero\" fill-opacity=\"1\" /><polyline clip-path=\"url(#clip802)\" style=\"stroke:#009af9; stroke-linecap:round; stroke-linejoin:round; stroke-width:4; stroke-opacity:1; fill:none\" points=\"203.301,87.9763 411.986,576.762 620.671,956.93 829.356,1228.48 1038.04,1391.41 1246.73,1445.72 1455.41,1391.41 1664.1,1228.48 1872.78,956.93 2081.47,576.762 2290.15,87.9763 \"/>\n",
              "<polyline clip-path=\"url(#clip802)\" style=\"stroke:#e26f46; stroke-linecap:round; stroke-linejoin:round; stroke-width:4; stroke-opacity:1; fill:none\" points=\"203.301,87.9763 411.986,576.762 620.671,956.93 829.356,1228.48 1038.04,1391.41 1246.73,1445.72 1455.41,1391.41 1664.1,1228.48 1872.78,956.93 2081.47,576.762 2290.15,87.9763 \"/>\n",
              "<polyline clip-path=\"url(#clip802)\" style=\"stroke:#3da44d; stroke-linecap:round; stroke-linejoin:round; stroke-width:4; stroke-opacity:1; fill:none\" points=\"203.301,87.9763 411.986,576.762 620.671,956.93 829.356,1228.48 1038.04,1391.41 1246.73,1445.72 1455.41,1391.41 1664.1,1228.48 1872.78,956.93 2081.47,576.762 2290.15,87.9763 \"/>\n",
              "<polyline clip-path=\"url(#clip802)\" style=\"stroke:#c271d2; stroke-linecap:round; stroke-linejoin:round; stroke-width:4; stroke-opacity:1; fill:none\" points=\"203.301,87.9763 411.986,576.762 620.671,956.93 829.356,1228.48 1038.04,1391.41 1246.73,1445.72 1455.41,1391.41 1664.1,1228.48 1872.78,956.93 2081.47,576.762 2290.15,87.9763 \"/>\n",
              "<polyline clip-path=\"url(#clip802)\" style=\"stroke:#ac8d18; stroke-linecap:round; stroke-linejoin:round; stroke-width:4; stroke-opacity:1; fill:none\" points=\"203.301,87.9763 411.986,576.762 620.671,956.93 829.356,1228.48 1038.04,1391.41 1246.73,1445.72 1455.41,1391.41 1664.1,1228.48 1872.78,956.93 2081.47,576.762 2290.15,87.9763 \"/>\n",
              "<polyline clip-path=\"url(#clip802)\" style=\"stroke:#00a9ad; stroke-linecap:round; stroke-linejoin:round; stroke-width:4; stroke-opacity:1; fill:none\" points=\"203.301,87.9763 411.986,576.762 620.671,956.93 829.356,1228.48 1038.04,1391.41 1246.73,1445.72 1455.41,1391.41 1664.1,1228.48 1872.78,956.93 2081.47,576.762 2290.15,87.9763 \"/>\n",
              "<polyline clip-path=\"url(#clip802)\" style=\"stroke:#ed5d92; stroke-linecap:round; stroke-linejoin:round; stroke-width:4; stroke-opacity:1; fill:none\" points=\"203.301,87.9763 411.986,576.762 620.671,956.93 829.356,1228.48 1038.04,1391.41 1246.73,1445.72 1455.41,1391.41 1664.1,1228.48 1872.78,956.93 2081.47,576.762 2290.15,87.9763 \"/>\n",
              "<polyline clip-path=\"url(#clip802)\" style=\"stroke:#c68125; stroke-linecap:round; stroke-linejoin:round; stroke-width:4; stroke-opacity:1; fill:none\" points=\"203.301,87.9763 411.986,576.762 620.671,956.93 829.356,1228.48 1038.04,1391.41 1246.73,1445.72 1455.41,1391.41 1664.1,1228.48 1872.78,956.93 2081.47,576.762 2290.15,87.9763 \"/>\n",
              "<polyline clip-path=\"url(#clip802)\" style=\"stroke:#00a98d; stroke-linecap:round; stroke-linejoin:round; stroke-width:4; stroke-opacity:1; fill:none\" points=\"203.301,87.9763 411.986,576.762 620.671,956.93 829.356,1228.48 1038.04,1391.41 1246.73,1445.72 1455.41,1391.41 1664.1,1228.48 1872.78,956.93 2081.47,576.762 2290.15,87.9763 \"/>\n",
              "<polyline clip-path=\"url(#clip802)\" style=\"stroke:#8e971d; stroke-linecap:round; stroke-linejoin:round; stroke-width:4; stroke-opacity:1; fill:none\" points=\"203.301,87.9763 411.986,576.762 620.671,956.93 829.356,1228.48 1038.04,1391.41 1246.73,1445.72 1455.41,1391.41 1664.1,1228.48 1872.78,956.93 2081.47,576.762 2290.15,87.9763 \"/>\n",
              "<polyline clip-path=\"url(#clip802)\" style=\"stroke:#00a8cb; stroke-linecap:round; stroke-linejoin:round; stroke-width:4; stroke-opacity:1; fill:none\" points=\"203.301,87.9763 411.986,576.762 620.671,956.93 829.356,1228.48 1038.04,1391.41 1246.73,1445.72 1455.41,1391.41 1664.1,1228.48 1872.78,956.93 2081.47,576.762 2290.15,87.9763 \"/>\n",
              "<path clip-path=\"url(#clip800)\" d=\"M1974 1438.47 L2279.02 1438.47 L2279.02 816.394 L1974 816.394  Z\" fill=\"#ffffff\" fill-rule=\"evenodd\" fill-opacity=\"1\"/>\n",
              "<polyline clip-path=\"url(#clip800)\" style=\"stroke:#000000; stroke-linecap:round; stroke-linejoin:round; stroke-width:4; stroke-opacity:1; fill:none\" points=\"1974,1438.47 2279.02,1438.47 2279.02,816.394 1974,816.394 1974,1438.47 \"/>\n",
              "<polyline clip-path=\"url(#clip800)\" style=\"stroke:#009af9; stroke-linecap:round; stroke-linejoin:round; stroke-width:4; stroke-opacity:1; fill:none\" points=\"1998.57,868.234 2146.04,868.234 \"/>\n",
              "<path clip-path=\"url(#clip800)\" d=\"M2184.47 887.922 Q2182.66 892.551 2180.95 893.963 Q2179.23 895.375 2176.36 895.375 L2172.96 895.375 L2172.96 891.811 L2175.46 891.811 Q2177.22 891.811 2178.19 890.977 Q2179.16 890.144 2180.35 887.042 L2181.11 885.098 L2170.62 859.589 L2175.14 859.589 L2183.24 879.866 L2191.34 859.589 L2195.85 859.589 L2184.47 887.922 Z\" fill=\"#000000\" fill-rule=\"nonzero\" fill-opacity=\"1\" /><path clip-path=\"url(#clip800)\" d=\"M2203.15 881.579 L2210.78 881.579 L2210.78 855.214 L2202.47 856.88 L2202.47 852.621 L2210.74 850.954 L2215.41 850.954 L2215.41 881.579 L2223.05 881.579 L2223.05 885.514 L2203.15 885.514 L2203.15 881.579 Z\" fill=\"#000000\" fill-rule=\"nonzero\" fill-opacity=\"1\" /><polyline clip-path=\"url(#clip800)\" style=\"stroke:#e26f46; stroke-linecap:round; stroke-linejoin:round; stroke-width:4; stroke-opacity:1; fill:none\" points=\"1998.57,920.074 2146.04,920.074 \"/>\n",
              "<path clip-path=\"url(#clip800)\" d=\"M2184.47 939.762 Q2182.66 944.391 2180.95 945.803 Q2179.23 947.215 2176.36 947.215 L2172.96 947.215 L2172.96 943.651 L2175.46 943.651 Q2177.22 943.651 2178.19 942.817 Q2179.16 941.984 2180.35 938.882 L2181.11 936.938 L2170.62 911.429 L2175.14 911.429 L2183.24 931.706 L2191.34 911.429 L2195.85 911.429 L2184.47 939.762 Z\" fill=\"#000000\" fill-rule=\"nonzero\" fill-opacity=\"1\" /><path clip-path=\"url(#clip800)\" d=\"M2206.36 933.419 L2222.68 933.419 L2222.68 937.354 L2200.74 937.354 L2200.74 933.419 Q2203.4 930.665 2207.98 926.035 Q2212.59 921.382 2213.77 920.04 Q2216.02 917.517 2216.9 915.78 Q2217.8 914.021 2217.8 912.331 Q2217.8 909.577 2215.85 907.841 Q2213.93 906.105 2210.83 906.105 Q2208.63 906.105 2206.18 906.868 Q2203.75 907.632 2200.97 909.183 L2200.97 904.461 Q2203.79 903.327 2206.25 902.748 Q2208.7 902.169 2210.74 902.169 Q2216.11 902.169 2219.3 904.855 Q2222.5 907.54 2222.5 912.03 Q2222.5 914.16 2221.69 916.081 Q2220.9 917.98 2218.79 920.572 Q2218.22 921.243 2215.11 924.461 Q2212.01 927.655 2206.36 933.419 Z\" fill=\"#000000\" fill-rule=\"nonzero\" fill-opacity=\"1\" /><polyline clip-path=\"url(#clip800)\" style=\"stroke:#3da44d; stroke-linecap:round; stroke-linejoin:round; stroke-width:4; stroke-opacity:1; fill:none\" points=\"1998.57,971.914 2146.04,971.914 \"/>\n",
              "<path clip-path=\"url(#clip800)\" d=\"M2184.47 991.602 Q2182.66 996.231 2180.95 997.643 Q2179.23 999.055 2176.36 999.055 L2172.96 999.055 L2172.96 995.491 L2175.46 995.491 Q2177.22 995.491 2178.19 994.657 Q2179.16 993.824 2180.35 990.722 L2181.11 988.778 L2170.62 963.269 L2175.14 963.269 L2183.24 983.546 L2191.34 963.269 L2195.85 963.269 L2184.47 991.602 Z\" fill=\"#000000\" fill-rule=\"nonzero\" fill-opacity=\"1\" /><path clip-path=\"url(#clip800)\" d=\"M2216.5 970.56 Q2219.86 971.278 2221.73 973.546 Q2223.63 975.815 2223.63 979.148 Q2223.63 984.264 2220.11 987.065 Q2216.6 989.866 2210.11 989.866 Q2207.94 989.866 2205.62 989.426 Q2203.33 989.009 2200.88 988.153 L2200.88 983.639 Q2202.82 984.773 2205.14 985.352 Q2207.45 985.931 2209.97 985.931 Q2214.37 985.931 2216.66 984.194 Q2218.98 982.458 2218.98 979.148 Q2218.98 976.093 2216.83 974.38 Q2214.7 972.644 2210.88 972.644 L2206.85 972.644 L2206.85 968.801 L2211.06 968.801 Q2214.51 968.801 2216.34 967.435 Q2218.17 966.046 2218.17 963.454 Q2218.17 960.792 2216.27 959.38 Q2214.4 957.945 2210.88 957.945 Q2208.96 957.945 2206.76 958.361 Q2204.56 958.778 2201.92 959.658 L2201.92 955.491 Q2204.58 954.75 2206.9 954.38 Q2209.23 954.009 2211.29 954.009 Q2216.62 954.009 2219.72 956.44 Q2222.82 958.847 2222.82 962.968 Q2222.82 965.838 2221.18 967.829 Q2219.53 969.796 2216.5 970.56 Z\" fill=\"#000000\" fill-rule=\"nonzero\" fill-opacity=\"1\" /><polyline clip-path=\"url(#clip800)\" style=\"stroke:#c271d2; stroke-linecap:round; stroke-linejoin:round; stroke-width:4; stroke-opacity:1; fill:none\" points=\"1998.57,1023.75 2146.04,1023.75 \"/>\n",
              "<path clip-path=\"url(#clip800)\" d=\"M2184.47 1043.44 Q2182.66 1048.07 2180.95 1049.48 Q2179.23 1050.9 2176.36 1050.9 L2172.96 1050.9 L2172.96 1047.33 L2175.46 1047.33 Q2177.22 1047.33 2178.19 1046.5 Q2179.16 1045.66 2180.35 1042.56 L2181.11 1040.62 L2170.62 1015.11 L2175.14 1015.11 L2183.24 1035.39 L2191.34 1015.11 L2195.85 1015.11 L2184.47 1043.44 Z\" fill=\"#000000\" fill-rule=\"nonzero\" fill-opacity=\"1\" /><path clip-path=\"url(#clip800)\" d=\"M2215.18 1010.55 L2203.38 1029 L2215.18 1029 L2215.18 1010.55 M2213.96 1006.47 L2219.84 1006.47 L2219.84 1029 L2224.77 1029 L2224.77 1032.89 L2219.84 1032.89 L2219.84 1041.03 L2215.18 1041.03 L2215.18 1032.89 L2199.58 1032.89 L2199.58 1028.37 L2213.96 1006.47 Z\" fill=\"#000000\" fill-rule=\"nonzero\" fill-opacity=\"1\" /><polyline clip-path=\"url(#clip800)\" style=\"stroke:#ac8d18; stroke-linecap:round; stroke-linejoin:round; stroke-width:4; stroke-opacity:1; fill:none\" points=\"1998.57,1075.59 2146.04,1075.59 \"/>\n",
              "<path clip-path=\"url(#clip800)\" d=\"M2184.47 1095.28 Q2182.66 1099.91 2180.95 1101.32 Q2179.23 1102.74 2176.36 1102.74 L2172.96 1102.74 L2172.96 1099.17 L2175.46 1099.17 Q2177.22 1099.17 2178.19 1098.34 Q2179.16 1097.5 2180.35 1094.4 L2181.11 1092.46 L2170.62 1066.95 L2175.14 1066.95 L2183.24 1087.23 L2191.34 1066.95 L2195.85 1066.95 L2184.47 1095.28 Z\" fill=\"#000000\" fill-rule=\"nonzero\" fill-opacity=\"1\" /><path clip-path=\"url(#clip800)\" d=\"M2202.38 1058.31 L2220.74 1058.31 L2220.74 1062.25 L2206.66 1062.25 L2206.66 1070.72 Q2207.68 1070.37 2208.7 1070.21 Q2209.72 1070.03 2210.74 1070.03 Q2216.53 1070.03 2219.91 1073.2 Q2223.28 1076.37 2223.28 1081.79 Q2223.28 1087.37 2219.81 1090.47 Q2216.34 1093.55 2210.02 1093.55 Q2207.85 1093.55 2205.58 1093.18 Q2203.33 1092.8 2200.92 1092.06 L2200.92 1087.37 Q2203.01 1088.5 2205.23 1089.05 Q2207.45 1089.61 2209.93 1089.61 Q2213.93 1089.61 2216.27 1087.5 Q2218.61 1085.4 2218.61 1081.79 Q2218.61 1078.18 2216.27 1076.07 Q2213.93 1073.96 2209.93 1073.96 Q2208.05 1073.96 2206.18 1074.38 Q2204.33 1074.8 2202.38 1075.68 L2202.38 1058.31 Z\" fill=\"#000000\" fill-rule=\"nonzero\" fill-opacity=\"1\" /><polyline clip-path=\"url(#clip800)\" style=\"stroke:#00a9ad; stroke-linecap:round; stroke-linejoin:round; stroke-width:4; stroke-opacity:1; fill:none\" points=\"1998.57,1127.43 2146.04,1127.43 \"/>\n",
              "<path clip-path=\"url(#clip800)\" d=\"M2184.47 1147.12 Q2182.66 1151.75 2180.95 1153.16 Q2179.23 1154.58 2176.36 1154.58 L2172.96 1154.58 L2172.96 1151.01 L2175.46 1151.01 Q2177.22 1151.01 2178.19 1150.18 Q2179.16 1149.34 2180.35 1146.24 L2181.11 1144.3 L2170.62 1118.79 L2175.14 1118.79 L2183.24 1139.07 L2191.34 1118.79 L2195.85 1118.79 L2184.47 1147.12 Z\" fill=\"#000000\" fill-rule=\"nonzero\" fill-opacity=\"1\" /><path clip-path=\"url(#clip800)\" d=\"M2212.91 1125.57 Q2209.77 1125.57 2207.91 1127.72 Q2206.09 1129.88 2206.09 1133.63 Q2206.09 1137.35 2207.91 1139.53 Q2209.77 1141.68 2212.91 1141.68 Q2216.06 1141.68 2217.89 1139.53 Q2219.74 1137.35 2219.74 1133.63 Q2219.74 1129.88 2217.89 1127.72 Q2216.06 1125.57 2212.91 1125.57 M2222.2 1110.92 L2222.2 1115.18 Q2220.44 1114.34 2218.63 1113.9 Q2216.85 1113.46 2215.09 1113.46 Q2210.46 1113.46 2208.01 1116.59 Q2205.58 1119.71 2205.23 1126.03 Q2206.6 1124.02 2208.66 1122.96 Q2210.72 1121.87 2213.19 1121.87 Q2218.4 1121.87 2221.41 1125.04 Q2224.44 1128.19 2224.44 1133.63 Q2224.44 1138.95 2221.29 1142.17 Q2218.15 1145.39 2212.91 1145.39 Q2206.92 1145.39 2203.75 1140.8 Q2200.58 1136.2 2200.58 1127.47 Q2200.58 1119.27 2204.47 1114.41 Q2208.35 1109.53 2214.91 1109.53 Q2216.66 1109.53 2218.45 1109.88 Q2220.25 1110.22 2222.2 1110.92 Z\" fill=\"#000000\" fill-rule=\"nonzero\" fill-opacity=\"1\" /><polyline clip-path=\"url(#clip800)\" style=\"stroke:#ed5d92; stroke-linecap:round; stroke-linejoin:round; stroke-width:4; stroke-opacity:1; fill:none\" points=\"1998.57,1179.27 2146.04,1179.27 \"/>\n",
              "<path clip-path=\"url(#clip800)\" d=\"M2184.47 1198.96 Q2182.66 1203.59 2180.95 1205 Q2179.23 1206.42 2176.36 1206.42 L2172.96 1206.42 L2172.96 1202.85 L2175.46 1202.85 Q2177.22 1202.85 2178.19 1202.02 Q2179.16 1201.18 2180.35 1198.08 L2181.11 1196.14 L2170.62 1170.63 L2175.14 1170.63 L2183.24 1190.91 L2191.34 1170.63 L2195.85 1170.63 L2184.47 1198.96 Z\" fill=\"#000000\" fill-rule=\"nonzero\" fill-opacity=\"1\" /><path clip-path=\"url(#clip800)\" d=\"M2201.16 1161.99 L2223.38 1161.99 L2223.38 1163.99 L2210.83 1196.55 L2205.95 1196.55 L2217.75 1165.93 L2201.16 1165.93 L2201.16 1161.99 Z\" fill=\"#000000\" fill-rule=\"nonzero\" fill-opacity=\"1\" /><polyline clip-path=\"url(#clip800)\" style=\"stroke:#c68125; stroke-linecap:round; stroke-linejoin:round; stroke-width:4; stroke-opacity:1; fill:none\" points=\"1998.57,1231.11 2146.04,1231.11 \"/>\n",
              "<path clip-path=\"url(#clip800)\" d=\"M2184.47 1250.8 Q2182.66 1255.43 2180.95 1256.84 Q2179.23 1258.26 2176.36 1258.26 L2172.96 1258.26 L2172.96 1254.69 L2175.46 1254.69 Q2177.22 1254.69 2178.19 1253.86 Q2179.16 1253.02 2180.35 1249.92 L2181.11 1247.98 L2170.62 1222.47 L2175.14 1222.47 L2183.24 1242.75 L2191.34 1222.47 L2195.85 1222.47 L2184.47 1250.8 Z\" fill=\"#000000\" fill-rule=\"nonzero\" fill-opacity=\"1\" /><path clip-path=\"url(#clip800)\" d=\"M2212.34 1231.98 Q2209 1231.98 2207.08 1233.76 Q2205.18 1235.55 2205.18 1238.67 Q2205.18 1241.8 2207.08 1243.58 Q2209 1245.36 2212.34 1245.36 Q2215.67 1245.36 2217.59 1243.58 Q2219.51 1241.77 2219.51 1238.67 Q2219.51 1235.55 2217.59 1233.76 Q2215.69 1231.98 2212.34 1231.98 M2207.66 1229.99 Q2204.65 1229.25 2202.96 1227.19 Q2201.29 1225.13 2201.29 1222.17 Q2201.29 1218.02 2204.23 1215.62 Q2207.2 1213.21 2212.34 1213.21 Q2217.5 1213.21 2220.44 1215.62 Q2223.38 1218.02 2223.38 1222.17 Q2223.38 1225.13 2221.69 1227.19 Q2220.02 1229.25 2217.03 1229.99 Q2220.41 1230.78 2222.29 1233.07 Q2224.19 1235.36 2224.19 1238.67 Q2224.19 1243.7 2221.11 1246.38 Q2218.05 1249.07 2212.34 1249.07 Q2206.62 1249.07 2203.54 1246.38 Q2200.48 1243.7 2200.48 1238.67 Q2200.48 1235.36 2202.38 1233.07 Q2204.28 1230.78 2207.66 1229.99 M2205.95 1222.61 Q2205.95 1225.29 2207.61 1226.8 Q2209.3 1228.3 2212.34 1228.3 Q2215.35 1228.3 2217.03 1226.8 Q2218.75 1225.29 2218.75 1222.61 Q2218.75 1219.92 2217.03 1218.42 Q2215.35 1216.91 2212.34 1216.91 Q2209.3 1216.91 2207.61 1218.42 Q2205.95 1219.92 2205.95 1222.61 Z\" fill=\"#000000\" fill-rule=\"nonzero\" fill-opacity=\"1\" /><polyline clip-path=\"url(#clip800)\" style=\"stroke:#00a98d; stroke-linecap:round; stroke-linejoin:round; stroke-width:4; stroke-opacity:1; fill:none\" points=\"1998.57,1282.95 2146.04,1282.95 \"/>\n",
              "<path clip-path=\"url(#clip800)\" d=\"M2184.47 1302.64 Q2182.66 1307.27 2180.95 1308.68 Q2179.23 1310.1 2176.36 1310.1 L2172.96 1310.1 L2172.96 1306.53 L2175.46 1306.53 Q2177.22 1306.53 2178.19 1305.7 Q2179.16 1304.86 2180.35 1301.76 L2181.11 1299.82 L2170.62 1274.31 L2175.14 1274.31 L2183.24 1294.59 L2191.34 1274.31 L2195.85 1274.31 L2184.47 1302.64 Z\" fill=\"#000000\" fill-rule=\"nonzero\" fill-opacity=\"1\" /><path clip-path=\"url(#clip800)\" d=\"M2202.47 1299.52 L2202.47 1295.26 Q2204.23 1296.09 2206.04 1296.53 Q2207.85 1296.97 2209.58 1296.97 Q2214.21 1296.97 2216.64 1293.87 Q2219.1 1290.74 2219.44 1284.4 Q2218.1 1286.39 2216.04 1287.46 Q2213.98 1288.52 2211.48 1288.52 Q2206.29 1288.52 2203.26 1285.4 Q2200.25 1282.25 2200.25 1276.81 Q2200.25 1271.48 2203.4 1268.27 Q2206.55 1265.05 2211.78 1265.05 Q2217.78 1265.05 2220.92 1269.66 Q2224.1 1274.24 2224.1 1282.99 Q2224.1 1291.16 2220.21 1296.04 Q2216.34 1300.91 2209.79 1300.91 Q2208.03 1300.91 2206.22 1300.56 Q2204.42 1300.21 2202.47 1299.52 M2211.78 1284.86 Q2214.93 1284.86 2216.76 1282.71 Q2218.61 1280.56 2218.61 1276.81 Q2218.61 1273.08 2216.76 1270.93 Q2214.93 1268.75 2211.78 1268.75 Q2208.63 1268.75 2206.78 1270.93 Q2204.95 1273.08 2204.95 1276.81 Q2204.95 1280.56 2206.78 1282.71 Q2208.63 1284.86 2211.78 1284.86 Z\" fill=\"#000000\" fill-rule=\"nonzero\" fill-opacity=\"1\" /><polyline clip-path=\"url(#clip800)\" style=\"stroke:#8e971d; stroke-linecap:round; stroke-linejoin:round; stroke-width:4; stroke-opacity:1; fill:none\" points=\"1998.57,1334.79 2146.04,1334.79 \"/>\n",
              "<path clip-path=\"url(#clip800)\" d=\"M2184.47 1354.48 Q2182.66 1359.11 2180.95 1360.52 Q2179.23 1361.94 2176.36 1361.94 L2172.96 1361.94 L2172.96 1358.37 L2175.46 1358.37 Q2177.22 1358.37 2178.19 1357.54 Q2179.16 1356.7 2180.35 1353.6 L2181.11 1351.66 L2170.62 1326.15 L2175.14 1326.15 L2183.24 1346.43 L2191.34 1326.15 L2195.85 1326.15 L2184.47 1354.48 Z\" fill=\"#000000\" fill-rule=\"nonzero\" fill-opacity=\"1\" /><path clip-path=\"url(#clip800)\" d=\"M2203.15 1348.14 L2210.78 1348.14 L2210.78 1321.77 L2202.47 1323.44 L2202.47 1319.18 L2210.74 1317.51 L2215.41 1317.51 L2215.41 1348.14 L2223.05 1348.14 L2223.05 1352.07 L2203.15 1352.07 L2203.15 1348.14 Z\" fill=\"#000000\" fill-rule=\"nonzero\" fill-opacity=\"1\" /><path clip-path=\"url(#clip800)\" d=\"M2242.5 1320.59 Q2238.89 1320.59 2237.06 1324.16 Q2235.25 1327.7 2235.25 1334.83 Q2235.25 1341.94 2237.06 1345.5 Q2238.89 1349.04 2242.5 1349.04 Q2246.13 1349.04 2247.94 1345.5 Q2249.77 1341.94 2249.77 1334.83 Q2249.77 1327.7 2247.94 1324.16 Q2246.13 1320.59 2242.5 1320.59 M2242.5 1316.89 Q2248.31 1316.89 2251.36 1321.5 Q2254.44 1326.08 2254.44 1334.83 Q2254.44 1343.56 2251.36 1348.16 Q2248.31 1352.75 2242.5 1352.75 Q2236.69 1352.75 2233.61 1348.16 Q2230.55 1343.56 2230.55 1334.83 Q2230.55 1326.08 2233.61 1321.5 Q2236.69 1316.89 2242.5 1316.89 Z\" fill=\"#000000\" fill-rule=\"nonzero\" fill-opacity=\"1\" /><polyline clip-path=\"url(#clip800)\" style=\"stroke:#00a8cb; stroke-linecap:round; stroke-linejoin:round; stroke-width:4; stroke-opacity:1; fill:none\" points=\"1998.57,1386.63 2146.04,1386.63 \"/>\n",
              "<path clip-path=\"url(#clip800)\" d=\"M2184.47 1406.32 Q2182.66 1410.95 2180.95 1412.36 Q2179.23 1413.78 2176.36 1413.78 L2172.96 1413.78 L2172.96 1410.21 L2175.46 1410.21 Q2177.22 1410.21 2178.19 1409.38 Q2179.16 1408.54 2180.35 1405.44 L2181.11 1403.5 L2170.62 1377.99 L2175.14 1377.99 L2183.24 1398.27 L2191.34 1377.99 L2195.85 1377.99 L2184.47 1406.32 Z\" fill=\"#000000\" fill-rule=\"nonzero\" fill-opacity=\"1\" /><path clip-path=\"url(#clip800)\" d=\"M2203.15 1399.98 L2210.78 1399.98 L2210.78 1373.61 L2202.47 1375.28 L2202.47 1371.02 L2210.74 1369.35 L2215.41 1369.35 L2215.41 1399.98 L2223.05 1399.98 L2223.05 1403.91 L2203.15 1403.91 L2203.15 1399.98 Z\" fill=\"#000000\" fill-rule=\"nonzero\" fill-opacity=\"1\" /><path clip-path=\"url(#clip800)\" d=\"M2233.31 1399.98 L2240.95 1399.98 L2240.95 1373.61 L2232.64 1375.28 L2232.64 1371.02 L2240.9 1369.35 L2245.58 1369.35 L2245.58 1399.98 L2253.22 1399.98 L2253.22 1403.91 L2233.31 1403.91 L2233.31 1399.98 Z\" fill=\"#000000\" fill-rule=\"nonzero\" fill-opacity=\"1\" /></svg>\n"
            ],
            "text/html": [
              "<?xml version=\"1.0\" encoding=\"utf-8\"?>\n",
              "<svg xmlns=\"http://www.w3.org/2000/svg\" xmlns:xlink=\"http://www.w3.org/1999/xlink\" width=\"600\" height=\"400\" viewBox=\"0 0 2400 1600\">\n",
              "<defs>\n",
              "  <clipPath id=\"clip850\">\n",
              "    <rect x=\"0\" y=\"0\" width=\"2400\" height=\"1600\"/>\n",
              "  </clipPath>\n",
              "</defs>\n",
              "<path clip-path=\"url(#clip850)\" d=\"M0 1600 L2400 1600 L2400 8.88178e-14 L0 8.88178e-14  Z\" fill=\"#ffffff\" fill-rule=\"evenodd\" fill-opacity=\"1\"/>\n",
              "<defs>\n",
              "  <clipPath id=\"clip851\">\n",
              "    <rect x=\"480\" y=\"0\" width=\"1681\" height=\"1600\"/>\n",
              "  </clipPath>\n",
              "</defs>\n",
              "<path clip-path=\"url(#clip850)\" d=\"M140.696 1486.45 L2352.76 1486.45 L2352.76 47.2441 L140.696 47.2441  Z\" fill=\"#ffffff\" fill-rule=\"evenodd\" fill-opacity=\"1\"/>\n",
              "<defs>\n",
              "  <clipPath id=\"clip852\">\n",
              "    <rect x=\"140\" y=\"47\" width=\"2213\" height=\"1440\"/>\n",
              "  </clipPath>\n",
              "</defs>\n",
              "<polyline clip-path=\"url(#clip852)\" style=\"stroke:#000000; stroke-linecap:round; stroke-linejoin:round; stroke-width:2; stroke-opacity:0.1; fill:none\" points=\"411.986,1486.45 411.986,47.2441 \"/>\n",
              "<polyline clip-path=\"url(#clip852)\" style=\"stroke:#000000; stroke-linecap:round; stroke-linejoin:round; stroke-width:2; stroke-opacity:0.1; fill:none\" points=\"829.356,1486.45 829.356,47.2441 \"/>\n",
              "<polyline clip-path=\"url(#clip852)\" style=\"stroke:#000000; stroke-linecap:round; stroke-linejoin:round; stroke-width:2; stroke-opacity:0.1; fill:none\" points=\"1246.73,1486.45 1246.73,47.2441 \"/>\n",
              "<polyline clip-path=\"url(#clip852)\" style=\"stroke:#000000; stroke-linecap:round; stroke-linejoin:round; stroke-width:2; stroke-opacity:0.1; fill:none\" points=\"1664.1,1486.45 1664.1,47.2441 \"/>\n",
              "<polyline clip-path=\"url(#clip852)\" style=\"stroke:#000000; stroke-linecap:round; stroke-linejoin:round; stroke-width:2; stroke-opacity:0.1; fill:none\" points=\"2081.47,1486.45 2081.47,47.2441 \"/>\n",
              "<polyline clip-path=\"url(#clip850)\" style=\"stroke:#000000; stroke-linecap:round; stroke-linejoin:round; stroke-width:4; stroke-opacity:1; fill:none\" points=\"140.696,1486.45 2352.76,1486.45 \"/>\n",
              "<polyline clip-path=\"url(#clip850)\" style=\"stroke:#000000; stroke-linecap:round; stroke-linejoin:round; stroke-width:4; stroke-opacity:1; fill:none\" points=\"411.986,1486.45 411.986,1467.55 \"/>\n",
              "<polyline clip-path=\"url(#clip850)\" style=\"stroke:#000000; stroke-linecap:round; stroke-linejoin:round; stroke-width:4; stroke-opacity:1; fill:none\" points=\"829.356,1486.45 829.356,1467.55 \"/>\n",
              "<polyline clip-path=\"url(#clip850)\" style=\"stroke:#000000; stroke-linecap:round; stroke-linejoin:round; stroke-width:4; stroke-opacity:1; fill:none\" points=\"1246.73,1486.45 1246.73,1467.55 \"/>\n",
              "<polyline clip-path=\"url(#clip850)\" style=\"stroke:#000000; stroke-linecap:round; stroke-linejoin:round; stroke-width:4; stroke-opacity:1; fill:none\" points=\"1664.1,1486.45 1664.1,1467.55 \"/>\n",
              "<polyline clip-path=\"url(#clip850)\" style=\"stroke:#000000; stroke-linecap:round; stroke-linejoin:round; stroke-width:4; stroke-opacity:1; fill:none\" points=\"2081.47,1486.45 2081.47,1467.55 \"/>\n",
              "<path clip-path=\"url(#clip850)\" d=\"M380.887 1532.02 L410.562 1532.02 L410.562 1535.95 L380.887 1535.95 L380.887 1532.02 Z\" fill=\"#000000\" fill-rule=\"nonzero\" fill-opacity=\"1\" /><path clip-path=\"url(#clip850)\" d=\"M433.502 1518.36 L421.697 1536.81 L433.502 1536.81 L433.502 1518.36 M432.275 1514.29 L438.155 1514.29 L438.155 1536.81 L443.085 1536.81 L443.085 1540.7 L438.155 1540.7 L438.155 1548.85 L433.502 1548.85 L433.502 1540.7 L417.9 1540.7 L417.9 1536.19 L432.275 1514.29 Z\" fill=\"#000000\" fill-rule=\"nonzero\" fill-opacity=\"1\" /><path clip-path=\"url(#clip850)\" d=\"M799.298 1532.02 L828.974 1532.02 L828.974 1535.95 L799.298 1535.95 L799.298 1532.02 Z\" fill=\"#000000\" fill-rule=\"nonzero\" fill-opacity=\"1\" /><path clip-path=\"url(#clip850)\" d=\"M843.094 1544.91 L859.414 1544.91 L859.414 1548.85 L837.469 1548.85 L837.469 1544.91 Q840.131 1542.16 844.715 1537.53 Q849.321 1532.88 850.502 1531.53 Q852.747 1529.01 853.627 1527.27 Q854.529 1525.51 854.529 1523.82 Q854.529 1521.07 852.585 1519.33 Q850.664 1517.6 847.562 1517.6 Q845.363 1517.6 842.909 1518.36 Q840.478 1519.13 837.701 1520.68 L837.701 1515.95 Q840.525 1514.82 842.978 1514.24 Q845.432 1513.66 847.469 1513.66 Q852.84 1513.66 856.034 1516.35 Q859.228 1519.03 859.228 1523.52 Q859.228 1525.65 858.418 1527.57 Q857.631 1529.47 855.525 1532.07 Q854.946 1532.74 851.844 1535.95 Q848.742 1539.15 843.094 1544.91 Z\" fill=\"#000000\" fill-rule=\"nonzero\" fill-opacity=\"1\" /><path clip-path=\"url(#clip850)\" d=\"M1246.73 1517.37 Q1243.11 1517.37 1241.29 1520.93 Q1239.48 1524.47 1239.48 1531.6 Q1239.48 1538.71 1241.29 1542.27 Q1243.11 1545.82 1246.73 1545.82 Q1250.36 1545.82 1252.17 1542.27 Q1253.99 1538.71 1253.99 1531.6 Q1253.99 1524.47 1252.17 1520.93 Q1250.36 1517.37 1246.73 1517.37 M1246.73 1513.66 Q1252.54 1513.66 1255.59 1518.27 Q1258.67 1522.85 1258.67 1531.6 Q1258.67 1540.33 1255.59 1544.94 Q1252.54 1549.52 1246.73 1549.52 Q1240.92 1549.52 1237.84 1544.94 Q1234.78 1540.33 1234.78 1531.6 Q1234.78 1522.85 1237.84 1518.27 Q1240.92 1513.66 1246.73 1513.66 Z\" fill=\"#000000\" fill-rule=\"nonzero\" fill-opacity=\"1\" /><path clip-path=\"url(#clip850)\" d=\"M1658.75 1544.91 L1675.07 1544.91 L1675.07 1548.85 L1653.12 1548.85 L1653.12 1544.91 Q1655.79 1542.16 1660.37 1537.53 Q1664.98 1532.88 1666.16 1531.53 Q1668.4 1529.01 1669.28 1527.27 Q1670.18 1525.51 1670.18 1523.82 Q1670.18 1521.07 1668.24 1519.33 Q1666.32 1517.6 1663.22 1517.6 Q1661.02 1517.6 1658.56 1518.36 Q1656.13 1519.13 1653.35 1520.68 L1653.35 1515.95 Q1656.18 1514.82 1658.63 1514.24 Q1661.09 1513.66 1663.12 1513.66 Q1668.49 1513.66 1671.69 1516.35 Q1674.88 1519.03 1674.88 1523.52 Q1674.88 1525.65 1674.07 1527.57 Q1673.29 1529.47 1671.18 1532.07 Q1670.6 1532.74 1667.5 1535.95 Q1664.4 1539.15 1658.75 1544.91 Z\" fill=\"#000000\" fill-rule=\"nonzero\" fill-opacity=\"1\" /><path clip-path=\"url(#clip850)\" d=\"M2084.47 1518.36 L2072.67 1536.81 L2084.47 1536.81 L2084.47 1518.36 M2083.25 1514.29 L2089.13 1514.29 L2089.13 1536.81 L2094.06 1536.81 L2094.06 1540.7 L2089.13 1540.7 L2089.13 1548.85 L2084.47 1548.85 L2084.47 1540.7 L2068.87 1540.7 L2068.87 1536.19 L2083.25 1514.29 Z\" fill=\"#000000\" fill-rule=\"nonzero\" fill-opacity=\"1\" /><polyline clip-path=\"url(#clip852)\" style=\"stroke:#000000; stroke-linecap:round; stroke-linejoin:round; stroke-width:2; stroke-opacity:0.1; fill:none\" points=\"140.696,1445.72 2352.76,1445.72 \"/>\n",
              "<polyline clip-path=\"url(#clip852)\" style=\"stroke:#000000; stroke-linecap:round; stroke-linejoin:round; stroke-width:2; stroke-opacity:0.1; fill:none\" points=\"140.696,1174.17 2352.76,1174.17 \"/>\n",
              "<polyline clip-path=\"url(#clip852)\" style=\"stroke:#000000; stroke-linecap:round; stroke-linejoin:round; stroke-width:2; stroke-opacity:0.1; fill:none\" points=\"140.696,902.62 2352.76,902.62 \"/>\n",
              "<polyline clip-path=\"url(#clip852)\" style=\"stroke:#000000; stroke-linecap:round; stroke-linejoin:round; stroke-width:2; stroke-opacity:0.1; fill:none\" points=\"140.696,631.072 2352.76,631.072 \"/>\n",
              "<polyline clip-path=\"url(#clip852)\" style=\"stroke:#000000; stroke-linecap:round; stroke-linejoin:round; stroke-width:2; stroke-opacity:0.1; fill:none\" points=\"140.696,359.524 2352.76,359.524 \"/>\n",
              "<polyline clip-path=\"url(#clip852)\" style=\"stroke:#000000; stroke-linecap:round; stroke-linejoin:round; stroke-width:2; stroke-opacity:0.1; fill:none\" points=\"140.696,87.9763 2352.76,87.9763 \"/>\n",
              "<polyline clip-path=\"url(#clip850)\" style=\"stroke:#000000; stroke-linecap:round; stroke-linejoin:round; stroke-width:4; stroke-opacity:1; fill:none\" points=\"140.696,1486.45 140.696,47.2441 \"/>\n",
              "<polyline clip-path=\"url(#clip850)\" style=\"stroke:#000000; stroke-linecap:round; stroke-linejoin:round; stroke-width:4; stroke-opacity:1; fill:none\" points=\"140.696,1445.72 159.593,1445.72 \"/>\n",
              "<polyline clip-path=\"url(#clip850)\" style=\"stroke:#000000; stroke-linecap:round; stroke-linejoin:round; stroke-width:4; stroke-opacity:1; fill:none\" points=\"140.696,1174.17 159.593,1174.17 \"/>\n",
              "<polyline clip-path=\"url(#clip850)\" style=\"stroke:#000000; stroke-linecap:round; stroke-linejoin:round; stroke-width:4; stroke-opacity:1; fill:none\" points=\"140.696,902.62 159.593,902.62 \"/>\n",
              "<polyline clip-path=\"url(#clip850)\" style=\"stroke:#000000; stroke-linecap:round; stroke-linejoin:round; stroke-width:4; stroke-opacity:1; fill:none\" points=\"140.696,631.072 159.593,631.072 \"/>\n",
              "<polyline clip-path=\"url(#clip850)\" style=\"stroke:#000000; stroke-linecap:round; stroke-linejoin:round; stroke-width:4; stroke-opacity:1; fill:none\" points=\"140.696,359.524 159.593,359.524 \"/>\n",
              "<polyline clip-path=\"url(#clip850)\" style=\"stroke:#000000; stroke-linecap:round; stroke-linejoin:round; stroke-width:4; stroke-opacity:1; fill:none\" points=\"140.696,87.9763 159.593,87.9763 \"/>\n",
              "<path clip-path=\"url(#clip850)\" d=\"M92.7512 1431.51 Q89.1401 1431.51 87.3114 1435.08 Q85.5058 1438.62 85.5058 1445.75 Q85.5058 1452.86 87.3114 1456.42 Q89.1401 1459.96 92.7512 1459.96 Q96.3854 1459.96 98.1909 1456.42 Q100.02 1452.86 100.02 1445.75 Q100.02 1438.62 98.1909 1435.08 Q96.3854 1431.51 92.7512 1431.51 M92.7512 1427.81 Q98.5613 1427.81 101.617 1432.42 Q104.696 1437 104.696 1445.75 Q104.696 1454.48 101.617 1459.08 Q98.5613 1463.67 92.7512 1463.67 Q86.941 1463.67 83.8623 1459.08 Q80.8068 1454.48 80.8068 1445.75 Q80.8068 1437 83.8623 1432.42 Q86.941 1427.81 92.7512 1427.81 Z\" fill=\"#000000\" fill-rule=\"nonzero\" fill-opacity=\"1\" /><path clip-path=\"url(#clip850)\" d=\"M83.7929 1156.89 L102.149 1156.89 L102.149 1160.82 L88.0753 1160.82 L88.0753 1169.3 Q89.0938 1168.95 90.1123 1168.79 Q91.1308 1168.6 92.1493 1168.6 Q97.9363 1168.6 101.316 1171.77 Q104.696 1174.94 104.696 1180.36 Q104.696 1185.94 101.223 1189.04 Q97.7511 1192.12 91.4317 1192.12 Q89.2558 1192.12 86.9873 1191.75 Q84.7419 1191.38 82.3346 1190.64 L82.3346 1185.94 Q84.4179 1187.07 86.6401 1187.63 Q88.8623 1188.18 91.3391 1188.18 Q95.3437 1188.18 97.6817 1186.08 Q100.02 1183.97 100.02 1180.36 Q100.02 1176.75 97.6817 1174.64 Q95.3437 1172.54 91.3391 1172.54 Q89.4641 1172.54 87.5892 1172.95 Q85.7373 1173.37 83.7929 1174.25 L83.7929 1156.89 Z\" fill=\"#000000\" fill-rule=\"nonzero\" fill-opacity=\"1\" /><path clip-path=\"url(#clip850)\" d=\"M53.3995 915.965 L61.0384 915.965 L61.0384 889.599 L52.7282 891.266 L52.7282 887.007 L60.9921 885.34 L65.668 885.34 L65.668 915.965 L73.3068 915.965 L73.3068 919.9 L53.3995 919.9 L53.3995 915.965 Z\" fill=\"#000000\" fill-rule=\"nonzero\" fill-opacity=\"1\" /><path clip-path=\"url(#clip850)\" d=\"M92.7512 888.419 Q89.1401 888.419 87.3114 891.983 Q85.5058 895.525 85.5058 902.655 Q85.5058 909.761 87.3114 913.326 Q89.1401 916.868 92.7512 916.868 Q96.3854 916.868 98.1909 913.326 Q100.02 909.761 100.02 902.655 Q100.02 895.525 98.1909 891.983 Q96.3854 888.419 92.7512 888.419 M92.7512 884.715 Q98.5613 884.715 101.617 889.321 Q104.696 893.905 104.696 902.655 Q104.696 911.381 101.617 915.988 Q98.5613 920.571 92.7512 920.571 Q86.941 920.571 83.8623 915.988 Q80.8068 911.381 80.8068 902.655 Q80.8068 893.905 83.8623 889.321 Q86.941 884.715 92.7512 884.715 Z\" fill=\"#000000\" fill-rule=\"nonzero\" fill-opacity=\"1\" /><path clip-path=\"url(#clip850)\" d=\"M54.3949 644.417 L62.0337 644.417 L62.0337 618.051 L53.7236 619.718 L53.7236 615.459 L61.9874 613.792 L66.6633 613.792 L66.6633 644.417 L74.3022 644.417 L74.3022 648.352 L54.3949 648.352 L54.3949 644.417 Z\" fill=\"#000000\" fill-rule=\"nonzero\" fill-opacity=\"1\" /><path clip-path=\"url(#clip850)\" d=\"M83.7929 613.792 L102.149 613.792 L102.149 617.727 L88.0753 617.727 L88.0753 626.199 Q89.0938 625.852 90.1123 625.69 Q91.1308 625.505 92.1493 625.505 Q97.9363 625.505 101.316 628.676 Q104.696 631.848 104.696 637.264 Q104.696 642.843 101.223 645.945 Q97.7511 649.023 91.4317 649.023 Q89.2558 649.023 86.9873 648.653 Q84.7419 648.283 82.3346 647.542 L82.3346 642.843 Q84.4179 643.977 86.6401 644.533 Q88.8623 645.088 91.3391 645.088 Q95.3437 645.088 97.6817 642.982 Q100.02 640.875 100.02 637.264 Q100.02 633.653 97.6817 631.547 Q95.3437 629.44 91.3391 629.44 Q89.4641 629.44 87.5892 629.857 Q85.7373 630.273 83.7929 631.153 L83.7929 613.792 Z\" fill=\"#000000\" fill-rule=\"nonzero\" fill-opacity=\"1\" /><path clip-path=\"url(#clip850)\" d=\"M56.6171 372.869 L72.9365 372.869 L72.9365 376.804 L50.9921 376.804 L50.9921 372.869 Q53.6541 370.114 58.2375 365.485 Q62.8439 360.832 64.0245 359.489 Q66.2698 356.966 67.1494 355.23 Q68.0522 353.471 68.0522 351.781 Q68.0522 349.027 66.1078 347.29 Q64.1865 345.554 61.0847 345.554 Q58.8856 345.554 56.4319 346.318 Q54.0014 347.082 51.2236 348.633 L51.2236 343.911 Q54.0477 342.777 56.5014 342.198 Q58.955 341.619 60.9921 341.619 Q66.3624 341.619 69.5568 344.304 Q72.7513 346.99 72.7513 351.48 Q72.7513 353.61 71.9411 355.531 Q71.1541 357.429 69.0476 360.022 Q68.4689 360.693 65.367 363.911 Q62.2652 367.105 56.6171 372.869 Z\" fill=\"#000000\" fill-rule=\"nonzero\" fill-opacity=\"1\" /><path clip-path=\"url(#clip850)\" d=\"M92.7512 345.323 Q89.1401 345.323 87.3114 348.888 Q85.5058 352.429 85.5058 359.559 Q85.5058 366.665 87.3114 370.23 Q89.1401 373.772 92.7512 373.772 Q96.3854 373.772 98.1909 370.23 Q100.02 366.665 100.02 359.559 Q100.02 352.429 98.1909 348.888 Q96.3854 345.323 92.7512 345.323 M92.7512 341.619 Q98.5613 341.619 101.617 346.226 Q104.696 350.809 104.696 359.559 Q104.696 368.286 101.617 372.892 Q98.5613 377.475 92.7512 377.475 Q86.941 377.475 83.8623 372.892 Q80.8068 368.286 80.8068 359.559 Q80.8068 350.809 83.8623 346.226 Q86.941 341.619 92.7512 341.619 Z\" fill=\"#000000\" fill-rule=\"nonzero\" fill-opacity=\"1\" /><path clip-path=\"url(#clip850)\" d=\"M57.6125 101.321 L73.9318 101.321 L73.9318 105.256 L51.9875 105.256 L51.9875 101.321 Q54.6495 98.5665 59.2328 93.9369 Q63.8393 89.2841 65.0198 87.9416 Q67.2652 85.4184 68.1448 83.6823 Q69.0476 81.9231 69.0476 80.2333 Q69.0476 77.4786 67.1032 75.7425 Q65.1819 74.0064 62.08 74.0064 Q59.881 74.0064 57.4273 74.7703 Q54.9967 75.5342 52.219 77.0851 L52.219 72.3629 Q55.043 71.2287 57.4967 70.65 Q59.9504 70.0713 61.9874 70.0713 Q67.3578 70.0713 70.5522 72.7565 Q73.7466 75.4416 73.7466 79.9323 Q73.7466 82.062 72.9365 83.9832 Q72.1494 85.8814 70.0429 88.474 Q69.4642 89.1453 66.3624 92.3628 Q63.2606 95.5573 57.6125 101.321 Z\" fill=\"#000000\" fill-rule=\"nonzero\" fill-opacity=\"1\" /><path clip-path=\"url(#clip850)\" d=\"M83.7929 70.6963 L102.149 70.6963 L102.149 74.6314 L88.0753 74.6314 L88.0753 83.1036 Q89.0938 82.7564 90.1123 82.5944 Q91.1308 82.4092 92.1493 82.4092 Q97.9363 82.4092 101.316 85.5805 Q104.696 88.7517 104.696 94.1684 Q104.696 99.747 101.223 102.849 Q97.7511 105.928 91.4317 105.928 Q89.2558 105.928 86.9873 105.557 Q84.7419 105.187 82.3346 104.446 L82.3346 99.747 Q84.4179 100.881 86.6401 101.437 Q88.8623 101.992 91.3391 101.992 Q95.3437 101.992 97.6817 99.8859 Q100.02 97.7795 100.02 94.1684 Q100.02 90.5573 97.6817 88.4508 Q95.3437 86.3443 91.3391 86.3443 Q89.4641 86.3443 87.5892 86.761 Q85.7373 87.1777 83.7929 88.0573 L83.7929 70.6963 Z\" fill=\"#000000\" fill-rule=\"nonzero\" fill-opacity=\"1\" /><polyline clip-path=\"url(#clip852)\" style=\"stroke:#009af9; stroke-linecap:round; stroke-linejoin:round; stroke-width:4; stroke-opacity:1; fill:none\" points=\"203.301,87.9763 411.986,576.762 620.671,956.93 829.356,1228.48 1038.04,1391.41 1246.73,1445.72 1455.41,1391.41 1664.1,1228.48 1872.78,956.93 2081.47,576.762 2290.15,87.9763 \"/>\n",
              "<polyline clip-path=\"url(#clip852)\" style=\"stroke:#e26f46; stroke-linecap:round; stroke-linejoin:round; stroke-width:4; stroke-opacity:1; fill:none\" points=\"203.301,87.9763 411.986,576.762 620.671,956.93 829.356,1228.48 1038.04,1391.41 1246.73,1445.72 1455.41,1391.41 1664.1,1228.48 1872.78,956.93 2081.47,576.762 2290.15,87.9763 \"/>\n",
              "<polyline clip-path=\"url(#clip852)\" style=\"stroke:#3da44d; stroke-linecap:round; stroke-linejoin:round; stroke-width:4; stroke-opacity:1; fill:none\" points=\"203.301,87.9763 411.986,576.762 620.671,956.93 829.356,1228.48 1038.04,1391.41 1246.73,1445.72 1455.41,1391.41 1664.1,1228.48 1872.78,956.93 2081.47,576.762 2290.15,87.9763 \"/>\n",
              "<polyline clip-path=\"url(#clip852)\" style=\"stroke:#c271d2; stroke-linecap:round; stroke-linejoin:round; stroke-width:4; stroke-opacity:1; fill:none\" points=\"203.301,87.9763 411.986,576.762 620.671,956.93 829.356,1228.48 1038.04,1391.41 1246.73,1445.72 1455.41,1391.41 1664.1,1228.48 1872.78,956.93 2081.47,576.762 2290.15,87.9763 \"/>\n",
              "<polyline clip-path=\"url(#clip852)\" style=\"stroke:#ac8d18; stroke-linecap:round; stroke-linejoin:round; stroke-width:4; stroke-opacity:1; fill:none\" points=\"203.301,87.9763 411.986,576.762 620.671,956.93 829.356,1228.48 1038.04,1391.41 1246.73,1445.72 1455.41,1391.41 1664.1,1228.48 1872.78,956.93 2081.47,576.762 2290.15,87.9763 \"/>\n",
              "<polyline clip-path=\"url(#clip852)\" style=\"stroke:#00a9ad; stroke-linecap:round; stroke-linejoin:round; stroke-width:4; stroke-opacity:1; fill:none\" points=\"203.301,87.9763 411.986,576.762 620.671,956.93 829.356,1228.48 1038.04,1391.41 1246.73,1445.72 1455.41,1391.41 1664.1,1228.48 1872.78,956.93 2081.47,576.762 2290.15,87.9763 \"/>\n",
              "<polyline clip-path=\"url(#clip852)\" style=\"stroke:#ed5d92; stroke-linecap:round; stroke-linejoin:round; stroke-width:4; stroke-opacity:1; fill:none\" points=\"203.301,87.9763 411.986,576.762 620.671,956.93 829.356,1228.48 1038.04,1391.41 1246.73,1445.72 1455.41,1391.41 1664.1,1228.48 1872.78,956.93 2081.47,576.762 2290.15,87.9763 \"/>\n",
              "<polyline clip-path=\"url(#clip852)\" style=\"stroke:#c68125; stroke-linecap:round; stroke-linejoin:round; stroke-width:4; stroke-opacity:1; fill:none\" points=\"203.301,87.9763 411.986,576.762 620.671,956.93 829.356,1228.48 1038.04,1391.41 1246.73,1445.72 1455.41,1391.41 1664.1,1228.48 1872.78,956.93 2081.47,576.762 2290.15,87.9763 \"/>\n",
              "<polyline clip-path=\"url(#clip852)\" style=\"stroke:#00a98d; stroke-linecap:round; stroke-linejoin:round; stroke-width:4; stroke-opacity:1; fill:none\" points=\"203.301,87.9763 411.986,576.762 620.671,956.93 829.356,1228.48 1038.04,1391.41 1246.73,1445.72 1455.41,1391.41 1664.1,1228.48 1872.78,956.93 2081.47,576.762 2290.15,87.9763 \"/>\n",
              "<polyline clip-path=\"url(#clip852)\" style=\"stroke:#8e971d; stroke-linecap:round; stroke-linejoin:round; stroke-width:4; stroke-opacity:1; fill:none\" points=\"203.301,87.9763 411.986,576.762 620.671,956.93 829.356,1228.48 1038.04,1391.41 1246.73,1445.72 1455.41,1391.41 1664.1,1228.48 1872.78,956.93 2081.47,576.762 2290.15,87.9763 \"/>\n",
              "<polyline clip-path=\"url(#clip852)\" style=\"stroke:#00a8cb; stroke-linecap:round; stroke-linejoin:round; stroke-width:4; stroke-opacity:1; fill:none\" points=\"203.301,87.9763 411.986,576.762 620.671,956.93 829.356,1228.48 1038.04,1391.41 1246.73,1445.72 1455.41,1391.41 1664.1,1228.48 1872.78,956.93 2081.47,576.762 2290.15,87.9763 \"/>\n",
              "<path clip-path=\"url(#clip850)\" d=\"M1974 1438.47 L2279.02 1438.47 L2279.02 816.394 L1974 816.394  Z\" fill=\"#ffffff\" fill-rule=\"evenodd\" fill-opacity=\"1\"/>\n",
              "<polyline clip-path=\"url(#clip850)\" style=\"stroke:#000000; stroke-linecap:round; stroke-linejoin:round; stroke-width:4; stroke-opacity:1; fill:none\" points=\"1974,1438.47 2279.02,1438.47 2279.02,816.394 1974,816.394 1974,1438.47 \"/>\n",
              "<polyline clip-path=\"url(#clip850)\" style=\"stroke:#009af9; stroke-linecap:round; stroke-linejoin:round; stroke-width:4; stroke-opacity:1; fill:none\" points=\"1998.57,868.234 2146.04,868.234 \"/>\n",
              "<path clip-path=\"url(#clip850)\" d=\"M2184.47 887.922 Q2182.66 892.551 2180.95 893.963 Q2179.23 895.375 2176.36 895.375 L2172.96 895.375 L2172.96 891.811 L2175.46 891.811 Q2177.22 891.811 2178.19 890.977 Q2179.16 890.144 2180.35 887.042 L2181.11 885.098 L2170.62 859.589 L2175.14 859.589 L2183.24 879.866 L2191.34 859.589 L2195.85 859.589 L2184.47 887.922 Z\" fill=\"#000000\" fill-rule=\"nonzero\" fill-opacity=\"1\" /><path clip-path=\"url(#clip850)\" d=\"M2203.15 881.579 L2210.78 881.579 L2210.78 855.214 L2202.47 856.88 L2202.47 852.621 L2210.74 850.954 L2215.41 850.954 L2215.41 881.579 L2223.05 881.579 L2223.05 885.514 L2203.15 885.514 L2203.15 881.579 Z\" fill=\"#000000\" fill-rule=\"nonzero\" fill-opacity=\"1\" /><polyline clip-path=\"url(#clip850)\" style=\"stroke:#e26f46; stroke-linecap:round; stroke-linejoin:round; stroke-width:4; stroke-opacity:1; fill:none\" points=\"1998.57,920.074 2146.04,920.074 \"/>\n",
              "<path clip-path=\"url(#clip850)\" d=\"M2184.47 939.762 Q2182.66 944.391 2180.95 945.803 Q2179.23 947.215 2176.36 947.215 L2172.96 947.215 L2172.96 943.651 L2175.46 943.651 Q2177.22 943.651 2178.19 942.817 Q2179.16 941.984 2180.35 938.882 L2181.11 936.938 L2170.62 911.429 L2175.14 911.429 L2183.24 931.706 L2191.34 911.429 L2195.85 911.429 L2184.47 939.762 Z\" fill=\"#000000\" fill-rule=\"nonzero\" fill-opacity=\"1\" /><path clip-path=\"url(#clip850)\" d=\"M2206.36 933.419 L2222.68 933.419 L2222.68 937.354 L2200.74 937.354 L2200.74 933.419 Q2203.4 930.665 2207.98 926.035 Q2212.59 921.382 2213.77 920.04 Q2216.02 917.517 2216.9 915.78 Q2217.8 914.021 2217.8 912.331 Q2217.8 909.577 2215.85 907.841 Q2213.93 906.105 2210.83 906.105 Q2208.63 906.105 2206.18 906.868 Q2203.75 907.632 2200.97 909.183 L2200.97 904.461 Q2203.79 903.327 2206.25 902.748 Q2208.7 902.169 2210.74 902.169 Q2216.11 902.169 2219.3 904.855 Q2222.5 907.54 2222.5 912.03 Q2222.5 914.16 2221.69 916.081 Q2220.9 917.98 2218.79 920.572 Q2218.22 921.243 2215.11 924.461 Q2212.01 927.655 2206.36 933.419 Z\" fill=\"#000000\" fill-rule=\"nonzero\" fill-opacity=\"1\" /><polyline clip-path=\"url(#clip850)\" style=\"stroke:#3da44d; stroke-linecap:round; stroke-linejoin:round; stroke-width:4; stroke-opacity:1; fill:none\" points=\"1998.57,971.914 2146.04,971.914 \"/>\n",
              "<path clip-path=\"url(#clip850)\" d=\"M2184.47 991.602 Q2182.66 996.231 2180.95 997.643 Q2179.23 999.055 2176.36 999.055 L2172.96 999.055 L2172.96 995.491 L2175.46 995.491 Q2177.22 995.491 2178.19 994.657 Q2179.16 993.824 2180.35 990.722 L2181.11 988.778 L2170.62 963.269 L2175.14 963.269 L2183.24 983.546 L2191.34 963.269 L2195.85 963.269 L2184.47 991.602 Z\" fill=\"#000000\" fill-rule=\"nonzero\" fill-opacity=\"1\" /><path clip-path=\"url(#clip850)\" d=\"M2216.5 970.56 Q2219.86 971.278 2221.73 973.546 Q2223.63 975.815 2223.63 979.148 Q2223.63 984.264 2220.11 987.065 Q2216.6 989.866 2210.11 989.866 Q2207.94 989.866 2205.62 989.426 Q2203.33 989.009 2200.88 988.153 L2200.88 983.639 Q2202.82 984.773 2205.14 985.352 Q2207.45 985.931 2209.97 985.931 Q2214.37 985.931 2216.66 984.194 Q2218.98 982.458 2218.98 979.148 Q2218.98 976.093 2216.83 974.38 Q2214.7 972.644 2210.88 972.644 L2206.85 972.644 L2206.85 968.801 L2211.06 968.801 Q2214.51 968.801 2216.34 967.435 Q2218.17 966.046 2218.17 963.454 Q2218.17 960.792 2216.27 959.38 Q2214.4 957.945 2210.88 957.945 Q2208.96 957.945 2206.76 958.361 Q2204.56 958.778 2201.92 959.658 L2201.92 955.491 Q2204.58 954.75 2206.9 954.38 Q2209.23 954.009 2211.29 954.009 Q2216.62 954.009 2219.72 956.44 Q2222.82 958.847 2222.82 962.968 Q2222.82 965.838 2221.18 967.829 Q2219.53 969.796 2216.5 970.56 Z\" fill=\"#000000\" fill-rule=\"nonzero\" fill-opacity=\"1\" /><polyline clip-path=\"url(#clip850)\" style=\"stroke:#c271d2; stroke-linecap:round; stroke-linejoin:round; stroke-width:4; stroke-opacity:1; fill:none\" points=\"1998.57,1023.75 2146.04,1023.75 \"/>\n",
              "<path clip-path=\"url(#clip850)\" d=\"M2184.47 1043.44 Q2182.66 1048.07 2180.95 1049.48 Q2179.23 1050.9 2176.36 1050.9 L2172.96 1050.9 L2172.96 1047.33 L2175.46 1047.33 Q2177.22 1047.33 2178.19 1046.5 Q2179.16 1045.66 2180.35 1042.56 L2181.11 1040.62 L2170.62 1015.11 L2175.14 1015.11 L2183.24 1035.39 L2191.34 1015.11 L2195.85 1015.11 L2184.47 1043.44 Z\" fill=\"#000000\" fill-rule=\"nonzero\" fill-opacity=\"1\" /><path clip-path=\"url(#clip850)\" d=\"M2215.18 1010.55 L2203.38 1029 L2215.18 1029 L2215.18 1010.55 M2213.96 1006.47 L2219.84 1006.47 L2219.84 1029 L2224.77 1029 L2224.77 1032.89 L2219.84 1032.89 L2219.84 1041.03 L2215.18 1041.03 L2215.18 1032.89 L2199.58 1032.89 L2199.58 1028.37 L2213.96 1006.47 Z\" fill=\"#000000\" fill-rule=\"nonzero\" fill-opacity=\"1\" /><polyline clip-path=\"url(#clip850)\" style=\"stroke:#ac8d18; stroke-linecap:round; stroke-linejoin:round; stroke-width:4; stroke-opacity:1; fill:none\" points=\"1998.57,1075.59 2146.04,1075.59 \"/>\n",
              "<path clip-path=\"url(#clip850)\" d=\"M2184.47 1095.28 Q2182.66 1099.91 2180.95 1101.32 Q2179.23 1102.74 2176.36 1102.74 L2172.96 1102.74 L2172.96 1099.17 L2175.46 1099.17 Q2177.22 1099.17 2178.19 1098.34 Q2179.16 1097.5 2180.35 1094.4 L2181.11 1092.46 L2170.62 1066.95 L2175.14 1066.95 L2183.24 1087.23 L2191.34 1066.95 L2195.85 1066.95 L2184.47 1095.28 Z\" fill=\"#000000\" fill-rule=\"nonzero\" fill-opacity=\"1\" /><path clip-path=\"url(#clip850)\" d=\"M2202.38 1058.31 L2220.74 1058.31 L2220.74 1062.25 L2206.66 1062.25 L2206.66 1070.72 Q2207.68 1070.37 2208.7 1070.21 Q2209.72 1070.03 2210.74 1070.03 Q2216.53 1070.03 2219.91 1073.2 Q2223.28 1076.37 2223.28 1081.79 Q2223.28 1087.37 2219.81 1090.47 Q2216.34 1093.55 2210.02 1093.55 Q2207.85 1093.55 2205.58 1093.18 Q2203.33 1092.8 2200.92 1092.06 L2200.92 1087.37 Q2203.01 1088.5 2205.23 1089.05 Q2207.45 1089.61 2209.93 1089.61 Q2213.93 1089.61 2216.27 1087.5 Q2218.61 1085.4 2218.61 1081.79 Q2218.61 1078.18 2216.27 1076.07 Q2213.93 1073.96 2209.93 1073.96 Q2208.05 1073.96 2206.18 1074.38 Q2204.33 1074.8 2202.38 1075.68 L2202.38 1058.31 Z\" fill=\"#000000\" fill-rule=\"nonzero\" fill-opacity=\"1\" /><polyline clip-path=\"url(#clip850)\" style=\"stroke:#00a9ad; stroke-linecap:round; stroke-linejoin:round; stroke-width:4; stroke-opacity:1; fill:none\" points=\"1998.57,1127.43 2146.04,1127.43 \"/>\n",
              "<path clip-path=\"url(#clip850)\" d=\"M2184.47 1147.12 Q2182.66 1151.75 2180.95 1153.16 Q2179.23 1154.58 2176.36 1154.58 L2172.96 1154.58 L2172.96 1151.01 L2175.46 1151.01 Q2177.22 1151.01 2178.19 1150.18 Q2179.16 1149.34 2180.35 1146.24 L2181.11 1144.3 L2170.62 1118.79 L2175.14 1118.79 L2183.24 1139.07 L2191.34 1118.79 L2195.85 1118.79 L2184.47 1147.12 Z\" fill=\"#000000\" fill-rule=\"nonzero\" fill-opacity=\"1\" /><path clip-path=\"url(#clip850)\" d=\"M2212.91 1125.57 Q2209.77 1125.57 2207.91 1127.72 Q2206.09 1129.88 2206.09 1133.63 Q2206.09 1137.35 2207.91 1139.53 Q2209.77 1141.68 2212.91 1141.68 Q2216.06 1141.68 2217.89 1139.53 Q2219.74 1137.35 2219.74 1133.63 Q2219.74 1129.88 2217.89 1127.72 Q2216.06 1125.57 2212.91 1125.57 M2222.2 1110.92 L2222.2 1115.18 Q2220.44 1114.34 2218.63 1113.9 Q2216.85 1113.46 2215.09 1113.46 Q2210.46 1113.46 2208.01 1116.59 Q2205.58 1119.71 2205.23 1126.03 Q2206.6 1124.02 2208.66 1122.96 Q2210.72 1121.87 2213.19 1121.87 Q2218.4 1121.87 2221.41 1125.04 Q2224.44 1128.19 2224.44 1133.63 Q2224.44 1138.95 2221.29 1142.17 Q2218.15 1145.39 2212.91 1145.39 Q2206.92 1145.39 2203.75 1140.8 Q2200.58 1136.2 2200.58 1127.47 Q2200.58 1119.27 2204.47 1114.41 Q2208.35 1109.53 2214.91 1109.53 Q2216.66 1109.53 2218.45 1109.88 Q2220.25 1110.22 2222.2 1110.92 Z\" fill=\"#000000\" fill-rule=\"nonzero\" fill-opacity=\"1\" /><polyline clip-path=\"url(#clip850)\" style=\"stroke:#ed5d92; stroke-linecap:round; stroke-linejoin:round; stroke-width:4; stroke-opacity:1; fill:none\" points=\"1998.57,1179.27 2146.04,1179.27 \"/>\n",
              "<path clip-path=\"url(#clip850)\" d=\"M2184.47 1198.96 Q2182.66 1203.59 2180.95 1205 Q2179.23 1206.42 2176.36 1206.42 L2172.96 1206.42 L2172.96 1202.85 L2175.46 1202.85 Q2177.22 1202.85 2178.19 1202.02 Q2179.16 1201.18 2180.35 1198.08 L2181.11 1196.14 L2170.62 1170.63 L2175.14 1170.63 L2183.24 1190.91 L2191.34 1170.63 L2195.85 1170.63 L2184.47 1198.96 Z\" fill=\"#000000\" fill-rule=\"nonzero\" fill-opacity=\"1\" /><path clip-path=\"url(#clip850)\" d=\"M2201.16 1161.99 L2223.38 1161.99 L2223.38 1163.99 L2210.83 1196.55 L2205.95 1196.55 L2217.75 1165.93 L2201.16 1165.93 L2201.16 1161.99 Z\" fill=\"#000000\" fill-rule=\"nonzero\" fill-opacity=\"1\" /><polyline clip-path=\"url(#clip850)\" style=\"stroke:#c68125; stroke-linecap:round; stroke-linejoin:round; stroke-width:4; stroke-opacity:1; fill:none\" points=\"1998.57,1231.11 2146.04,1231.11 \"/>\n",
              "<path clip-path=\"url(#clip850)\" d=\"M2184.47 1250.8 Q2182.66 1255.43 2180.95 1256.84 Q2179.23 1258.26 2176.36 1258.26 L2172.96 1258.26 L2172.96 1254.69 L2175.46 1254.69 Q2177.22 1254.69 2178.19 1253.86 Q2179.16 1253.02 2180.35 1249.92 L2181.11 1247.98 L2170.62 1222.47 L2175.14 1222.47 L2183.24 1242.75 L2191.34 1222.47 L2195.85 1222.47 L2184.47 1250.8 Z\" fill=\"#000000\" fill-rule=\"nonzero\" fill-opacity=\"1\" /><path clip-path=\"url(#clip850)\" d=\"M2212.34 1231.98 Q2209 1231.98 2207.08 1233.76 Q2205.18 1235.55 2205.18 1238.67 Q2205.18 1241.8 2207.08 1243.58 Q2209 1245.36 2212.34 1245.36 Q2215.67 1245.36 2217.59 1243.58 Q2219.51 1241.77 2219.51 1238.67 Q2219.51 1235.55 2217.59 1233.76 Q2215.69 1231.98 2212.34 1231.98 M2207.66 1229.99 Q2204.65 1229.25 2202.96 1227.19 Q2201.29 1225.13 2201.29 1222.17 Q2201.29 1218.02 2204.23 1215.62 Q2207.2 1213.21 2212.34 1213.21 Q2217.5 1213.21 2220.44 1215.62 Q2223.38 1218.02 2223.38 1222.17 Q2223.38 1225.13 2221.69 1227.19 Q2220.02 1229.25 2217.03 1229.99 Q2220.41 1230.78 2222.29 1233.07 Q2224.19 1235.36 2224.19 1238.67 Q2224.19 1243.7 2221.11 1246.38 Q2218.05 1249.07 2212.34 1249.07 Q2206.62 1249.07 2203.54 1246.38 Q2200.48 1243.7 2200.48 1238.67 Q2200.48 1235.36 2202.38 1233.07 Q2204.28 1230.78 2207.66 1229.99 M2205.95 1222.61 Q2205.95 1225.29 2207.61 1226.8 Q2209.3 1228.3 2212.34 1228.3 Q2215.35 1228.3 2217.03 1226.8 Q2218.75 1225.29 2218.75 1222.61 Q2218.75 1219.92 2217.03 1218.42 Q2215.35 1216.91 2212.34 1216.91 Q2209.3 1216.91 2207.61 1218.42 Q2205.95 1219.92 2205.95 1222.61 Z\" fill=\"#000000\" fill-rule=\"nonzero\" fill-opacity=\"1\" /><polyline clip-path=\"url(#clip850)\" style=\"stroke:#00a98d; stroke-linecap:round; stroke-linejoin:round; stroke-width:4; stroke-opacity:1; fill:none\" points=\"1998.57,1282.95 2146.04,1282.95 \"/>\n",
              "<path clip-path=\"url(#clip850)\" d=\"M2184.47 1302.64 Q2182.66 1307.27 2180.95 1308.68 Q2179.23 1310.1 2176.36 1310.1 L2172.96 1310.1 L2172.96 1306.53 L2175.46 1306.53 Q2177.22 1306.53 2178.19 1305.7 Q2179.16 1304.86 2180.35 1301.76 L2181.11 1299.82 L2170.62 1274.31 L2175.14 1274.31 L2183.24 1294.59 L2191.34 1274.31 L2195.85 1274.31 L2184.47 1302.64 Z\" fill=\"#000000\" fill-rule=\"nonzero\" fill-opacity=\"1\" /><path clip-path=\"url(#clip850)\" d=\"M2202.47 1299.52 L2202.47 1295.26 Q2204.23 1296.09 2206.04 1296.53 Q2207.85 1296.97 2209.58 1296.97 Q2214.21 1296.97 2216.64 1293.87 Q2219.1 1290.74 2219.44 1284.4 Q2218.1 1286.39 2216.04 1287.46 Q2213.98 1288.52 2211.48 1288.52 Q2206.29 1288.52 2203.26 1285.4 Q2200.25 1282.25 2200.25 1276.81 Q2200.25 1271.48 2203.4 1268.27 Q2206.55 1265.05 2211.78 1265.05 Q2217.78 1265.05 2220.92 1269.66 Q2224.1 1274.24 2224.1 1282.99 Q2224.1 1291.16 2220.21 1296.04 Q2216.34 1300.91 2209.79 1300.91 Q2208.03 1300.91 2206.22 1300.56 Q2204.42 1300.21 2202.47 1299.52 M2211.78 1284.86 Q2214.93 1284.86 2216.76 1282.71 Q2218.61 1280.56 2218.61 1276.81 Q2218.61 1273.08 2216.76 1270.93 Q2214.93 1268.75 2211.78 1268.75 Q2208.63 1268.75 2206.78 1270.93 Q2204.95 1273.08 2204.95 1276.81 Q2204.95 1280.56 2206.78 1282.71 Q2208.63 1284.86 2211.78 1284.86 Z\" fill=\"#000000\" fill-rule=\"nonzero\" fill-opacity=\"1\" /><polyline clip-path=\"url(#clip850)\" style=\"stroke:#8e971d; stroke-linecap:round; stroke-linejoin:round; stroke-width:4; stroke-opacity:1; fill:none\" points=\"1998.57,1334.79 2146.04,1334.79 \"/>\n",
              "<path clip-path=\"url(#clip850)\" d=\"M2184.47 1354.48 Q2182.66 1359.11 2180.95 1360.52 Q2179.23 1361.94 2176.36 1361.94 L2172.96 1361.94 L2172.96 1358.37 L2175.46 1358.37 Q2177.22 1358.37 2178.19 1357.54 Q2179.16 1356.7 2180.35 1353.6 L2181.11 1351.66 L2170.62 1326.15 L2175.14 1326.15 L2183.24 1346.43 L2191.34 1326.15 L2195.85 1326.15 L2184.47 1354.48 Z\" fill=\"#000000\" fill-rule=\"nonzero\" fill-opacity=\"1\" /><path clip-path=\"url(#clip850)\" d=\"M2203.15 1348.14 L2210.78 1348.14 L2210.78 1321.77 L2202.47 1323.44 L2202.47 1319.18 L2210.74 1317.51 L2215.41 1317.51 L2215.41 1348.14 L2223.05 1348.14 L2223.05 1352.07 L2203.15 1352.07 L2203.15 1348.14 Z\" fill=\"#000000\" fill-rule=\"nonzero\" fill-opacity=\"1\" /><path clip-path=\"url(#clip850)\" d=\"M2242.5 1320.59 Q2238.89 1320.59 2237.06 1324.16 Q2235.25 1327.7 2235.25 1334.83 Q2235.25 1341.94 2237.06 1345.5 Q2238.89 1349.04 2242.5 1349.04 Q2246.13 1349.04 2247.94 1345.5 Q2249.77 1341.94 2249.77 1334.83 Q2249.77 1327.7 2247.94 1324.16 Q2246.13 1320.59 2242.5 1320.59 M2242.5 1316.89 Q2248.31 1316.89 2251.36 1321.5 Q2254.44 1326.08 2254.44 1334.83 Q2254.44 1343.56 2251.36 1348.16 Q2248.31 1352.75 2242.5 1352.75 Q2236.69 1352.75 2233.61 1348.16 Q2230.55 1343.56 2230.55 1334.83 Q2230.55 1326.08 2233.61 1321.5 Q2236.69 1316.89 2242.5 1316.89 Z\" fill=\"#000000\" fill-rule=\"nonzero\" fill-opacity=\"1\" /><polyline clip-path=\"url(#clip850)\" style=\"stroke:#00a8cb; stroke-linecap:round; stroke-linejoin:round; stroke-width:4; stroke-opacity:1; fill:none\" points=\"1998.57,1386.63 2146.04,1386.63 \"/>\n",
              "<path clip-path=\"url(#clip850)\" d=\"M2184.47 1406.32 Q2182.66 1410.95 2180.95 1412.36 Q2179.23 1413.78 2176.36 1413.78 L2172.96 1413.78 L2172.96 1410.21 L2175.46 1410.21 Q2177.22 1410.21 2178.19 1409.38 Q2179.16 1408.54 2180.35 1405.44 L2181.11 1403.5 L2170.62 1377.99 L2175.14 1377.99 L2183.24 1398.27 L2191.34 1377.99 L2195.85 1377.99 L2184.47 1406.32 Z\" fill=\"#000000\" fill-rule=\"nonzero\" fill-opacity=\"1\" /><path clip-path=\"url(#clip850)\" d=\"M2203.15 1399.98 L2210.78 1399.98 L2210.78 1373.61 L2202.47 1375.28 L2202.47 1371.02 L2210.74 1369.35 L2215.41 1369.35 L2215.41 1399.98 L2223.05 1399.98 L2223.05 1403.91 L2203.15 1403.91 L2203.15 1399.98 Z\" fill=\"#000000\" fill-rule=\"nonzero\" fill-opacity=\"1\" /><path clip-path=\"url(#clip850)\" d=\"M2233.31 1399.98 L2240.95 1399.98 L2240.95 1373.61 L2232.64 1375.28 L2232.64 1371.02 L2240.9 1369.35 L2245.58 1369.35 L2245.58 1399.98 L2253.22 1399.98 L2253.22 1403.91 L2233.31 1403.91 L2233.31 1399.98 Z\" fill=\"#000000\" fill-rule=\"nonzero\" fill-opacity=\"1\" /></svg>\n"
            ]
          },
          "metadata": {},
          "output_type": "display_data"
        }
      ],
      "source": [
        "# insert your code here\n",
        "function square_of_int(x)\n",
        "    return x^2\n",
        "end\n",
        "x_vals= -5:5\n",
        "x_sqr= [square_of_int for x in x_vals]\n",
        "\n",
        "plot(x_vals, x_sqr)"
      ]
    },
    {
      "cell_type": "markdown",
      "id": "856a4f28",
      "metadata": {},
      "source": []
    },
    {
      "cell_type": "markdown",
      "id": "665caf84",
      "metadata": {},
      "source": []
    },
    {
      "cell_type": "markdown",
      "id": "eaca6031-e691-4019-9986-e7127b3df842",
      "metadata": {},
      "source": [
        "## Commit and Push Your Changes to GitHub\n",
        "\n",
        "After completing the previous two exercises, commit your solution file\n",
        "(notebook or otherwise) and push to GitHub. Use an informative commit\n",
        "message which makes it clear what changes you’ve made. The specific\n",
        "workflow for this will vary depending on how you’re writing up your\n",
        "solutions; please search for specifics and ask for help as needed!\n",
        "\n",
        "> **Useful Commit Sizes**\n",
        ">\n",
        "> Ideally, you’d commit whenever you make a “substantial” enough change\n",
        "> that you want to lock in, such as writing the core code for a problem\n",
        "> or completing a problem, if you’re preparing code to be used elsewhere\n",
        "> (by yourself or others), or if you want to ask for help. `git` lets\n",
        "> you revert changes back to a previous commit, so it’s easy to undo\n",
        "> changes or updates which broke something that was previously working,\n",
        "> so changing too many things at once can make it hard to keep track of\n",
        "> what worked when.\n",
        ">\n",
        "> But in this case, go ahead and just commit after finishing the\n",
        "> problems.\n",
        "\n",
        "Push the repository with these commits to GitHub and take a screenshot\n",
        "of the repository page\n",
        "(`https://github.com/BEE4750-FA24/<username>/lab01`) which shows the\n",
        "updated repository. Include that screenshot in your submission as the\n",
        "solution to this problem.\n",
        "\n",
        "## Submitting PDF\n",
        "\n",
        "> **Important**\n",
        ">\n",
        "> These submission instructions will not be repeated on future\n",
        "> assignments!\n",
        "\n",
        "Export your writeup as a PDF and submit it to the “Lab 1” assignment on\n",
        "Gradescope. Make sure that you tag pages corresponding to relevant\n",
        "problems to avoid a 10% penalty.\n",
        "\n",
        "> **Printing Code to PDF**\n",
        ">\n",
        "> You are not required to submit your code when submitting assignments.\n",
        "> However, when printing a notebook to PDF, long lines will run off the\n",
        "> edge of code cells, which may result in comments or code being hidden.\n",
        "> If you see this, go back to the notebook and break up long lines into\n",
        "> shorter onces (for example, see the comment in the above code cell) to\n",
        "> ensure key parts of your results aren’t missing."
      ]
    },
    {
      "cell_type": "markdown",
      "id": "02ffce72",
      "metadata": {},
      "source": [
        "![text](screenshot.png)"
      ]
    },
    {
      "cell_type": "markdown",
      "id": "e098d13e",
      "metadata": {},
      "source": []
    },
    {
      "cell_type": "markdown",
      "id": "82560b81",
      "metadata": {},
      "source": []
    },
    {
      "cell_type": "markdown",
      "id": "959f06dd",
      "metadata": {},
      "source": []
    }
  ],
  "metadata": {
    "kernel_info": {
      "name": "julia"
    },
    "kernelspec": {
      "display_name": "Julia 1.10.4",
      "language": "julia",
      "name": "julia-1.10"
    },
    "language_info": {
      "file_extension": ".jl",
      "mimetype": "application/julia",
      "name": "julia",
      "version": "1.10.4"
    }
  },
  "nbformat": 4,
  "nbformat_minor": 5
}
